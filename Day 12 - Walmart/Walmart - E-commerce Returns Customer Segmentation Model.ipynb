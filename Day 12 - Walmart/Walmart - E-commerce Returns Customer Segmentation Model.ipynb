{
 "cells": [
  {
   "cell_type": "markdown",
   "id": "a4cdf425",
   "metadata": {},
   "source": [
    "Day 12 of Python Summer Party\n",
    "\n",
    "by Interview Master\n",
    "\n",
    "Walmart\n",
    "\n",
    "E-commerce Returns Customer Segmentation Model\n",
    "\n",
    "You are a Data Analyst on the Walmart.com Insights team investigating customer return patterns. The team aims to develop a predictive approach to understanding customer return behaviors across different time periods. Your goal is to leverage transaction data to create a comprehensive view of customer return likelihood."
   ]
  },
  {
   "cell_type": "markdown",
   "id": "2118fe48",
   "metadata": {},
   "source": [
    "Question 1 of 2\n",
    "\n",
    "Identify and list all unique customer IDs who have made returns between July 1st 2024 and June 30th 2025. This will help us understand the base set of customers involved in returns during the specified period."
   ]
  },
  {
   "cell_type": "code",
   "execution_count": null,
   "id": "4fce7c80",
   "metadata": {},
   "outputs": [],
   "source": []
  },
  {
   "cell_type": "markdown",
   "id": "a12e5ca6",
   "metadata": {},
   "source": [
    "Question 2\n",
    "\n",
    "Convert the 'order_date' column to a datetime format and create a MultiIndex with 'customer_id' and 'order_date'. Then, calculate the total number of returns per customer for each month. This will provide insights into monthly return patterns for each customer."
   ]
  },
  {
   "cell_type": "markdown",
   "id": "538d4c19",
   "metadata": {},
   "source": []
  }
 ],
 "metadata": {
  "language_info": {
   "name": "python"
  }
 },
 "nbformat": 4,
 "nbformat_minor": 5
}

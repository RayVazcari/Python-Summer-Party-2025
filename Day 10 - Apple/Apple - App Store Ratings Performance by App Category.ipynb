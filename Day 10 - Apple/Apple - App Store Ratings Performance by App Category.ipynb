{
 "cells": [
  {
   "cell_type": "markdown",
   "id": "87db92ac",
   "metadata": {},
   "source": [
    "Day 10 of Python Summer Party\n",
    "\n",
    "by Interview Master\n",
    "\n",
    "Apple\n",
    "\n",
    "App Store Ratings Performance by App Category\n",
    "\n",
    "You are a Product Analyst for the Apple App Store team investigating app ratings data. Your focus is to clean and understand rating distributions across different app categories. The team wants to leverage basic statistical insights to guide app performance strategies."
   ]
  },
  {
   "cell_type": "markdown",
   "id": "3192f896",
   "metadata": {},
   "source": [
    "Question 1 of 3\n",
    "\n",
    "There are some data inconsistencies in the 'rating' column, specifically: leading or trailing white space, decimals represented by commas instead of decimal points (eg. 4,2 instead of 4.2), and non-numeric values. Clean up these data issues and convert the column to a numeric data type.\n",
    "\n",
    "Question 2:\n",
    "Using the cleaned dataset, display the first and last five entries to get an overview of the app ratings across different categories.\n",
    "\n",
    "Question 3:\n",
    "Calculate the basic summary statistics (mean, median, standard deviation) of app ratings for each category to identify variations and performance patterns."
   ]
  },
  {
   "cell_type": "code",
   "execution_count": null,
   "id": "f6b6cd6c",
   "metadata": {},
   "outputs": [],
   "source": []
  }
 ],
 "metadata": {
  "language_info": {
   "name": "python"
  }
 },
 "nbformat": 4,
 "nbformat_minor": 5
}

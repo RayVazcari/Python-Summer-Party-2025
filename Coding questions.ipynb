{
 "cells": [
  {
   "cell_type": "code",
   "execution_count": null,
   "id": "d1a0b779",
   "metadata": {},
   "outputs": [
    {
     "name": "stdout",
     "output_type": "stream",
     "text": [
      "[{'user': 'alice', 'action': 'login', 'timestamp': 1}, {'user': 'bob', 'action': 'login', 'timestamp': 2}, {'user': 'alice', 'action': 'logout', 'timestamp': 5}, {'user': 'bob', 'action': 'logout', 'timestamp': 6}, {'user': 'alice', 'action': 'login', 'timestamp': 7}, {'user': 'alice', 'action': 'logout', 'timestamp': 10}]\n"
     ]
    }
   ],
   "source": [
    "logs = [\n",
    "    {\"user\": \"alice\", \"action\": \"login\", \"timestamp\": 1},\n",
    "    {\"user\": \"bob\", \"action\": \"login\", \"timestamp\": 2},\n",
    "    {\"user\": \"alice\", \"action\": \"logout\", \"timestamp\": 5},\n",
    "    {\"user\": \"bob\", \"action\": \"logout\", \"timestamp\": 6},\n",
    "    {\"user\": \"alice\", \"action\": \"login\", \"timestamp\": 7},\n",
    "    {\"user\": \"alice\", \"action\": \"logout\", \"timestamp\": 10},\n",
    "]\n",
    "print(logs)\n"
   ]
  },
  {
   "cell_type": "code",
   "execution_count": null,
   "id": "059b1749",
   "metadata": {},
   "outputs": [],
   "source": [
    "def get_user_actions(logs):\n",
    "\n",
    "    user_actions = {}\n",
    "\n",
    "    for log in logs:\n",
    "        user = log[\"user\"]\n",
    "        action = log[\"action\"]\n",
    "        timestamp = log[\"timestamp\"]\n",
    "\n",
    "        if user not in user_actions:\n",
    "            user_actions[user] = {\"login\": [], \"logout\": []}\n",
    "\n",
    "        if action == \"login\":\n",
    "            user_actions[user][\"login\"].append(timestamp)\n",
    "        elif action == \"logout\":\n",
    "            user_actions[user][\"logout\"].append(timestamp)\n",
    "\n",
    "    print(user_actions)\n"
   ]
  },
  {
   "cell_type": "code",
   "execution_count": null,
   "id": "2a8a061c",
   "metadata": {},
   "outputs": [
    {
     "name": "stdout",
     "output_type": "stream",
     "text": [
      "{'alice': {'login': [1, 7], 'logout': [5, 10]}, 'bob': {'login': [2], 'logout': [6]}}\n"
     ]
    }
   ],
   "source": [
    "get_user_actions(logs)\n"
   ]
  },
  {
   "cell_type": "code",
   "execution_count": null,
   "id": "6802ed10",
   "metadata": {},
   "outputs": [],
   "source": [
    "def get_user_sessions(logs):\n",
    "    user_actions = {}\n",
    "\n",
    "    for log in logs:\n",
    "        user = log[\"user\"]\n",
    "        action = log[\"action\"]\n",
    "        timestamp = log[\"timestamp\"]\n",
    "\n",
    "        if user not in user_actions:\n",
    "            user_actions[user] = {\"login\": [], \"logout\": []}\n",
    "\n",
    "        user_actions[user][action].append(timestamp)\n",
    "\n",
    "    # Now combine logins and logouts into sessions\n",
    "    user_sessions = {}\n",
    "\n",
    "    for user, actions in user_actions.items():\n",
    "        sessions = list(zip(actions[\"login\"], actions[\"logout\"]))\n",
    "        user_sessions[user] = sessions\n",
    "\n",
    "    return user_sessions\n"
   ]
  },
  {
   "cell_type": "code",
   "execution_count": null,
   "id": "826989f4",
   "metadata": {},
   "outputs": [
    {
     "data": {
      "text/plain": [
       "{'alice': [(1, 5), (7, 10)], 'bob': [(2, 6)]}"
      ]
     },
     "execution_count": 19,
     "metadata": {},
     "output_type": "execute_result"
    }
   ],
   "source": [
    "get_user_sessions(logs)\n"
   ]
  },
  {
   "cell_type": "markdown",
   "id": "ed14bcf6",
   "metadata": {},
   "source": [
    "🧪 Coding Question #2: Clean Command Line Logs\n",
    "You're given a list of command line inputs from users. Some of them are potentially dangerous, some are benign.\n",
    "\n",
    "Here’s a sample input:\n",
    "\n",
    "commands = [\n",
    "\"curl http://malicious.com --output file.txt\",\n",
    "\"echo Hello World\",\n",
    "\"rm -rf /\",\n",
    "\"cd /home/user\",\n",
    "\"wget https://safe-site.org/install.sh\",\n",
    "\"sudo shutdown now\"\n",
    "]\n",
    "✅ Your Task:\n",
    "Write a function filter_dangerous_commands(commands) that returns a filtered list with only the dangerous commands.\n",
    "\n",
    "Let’s define \"dangerous\" as any command that:\n",
    "\n",
    "Contains rm, sudo, or curl.\n",
    "\n",
    "Is case-insensitive (i.e., RM, Rm, SUDO, etc. should be caught).\n",
    "\n",
    "May have extra spaces or arguments, but if the keyword is anywhere, it’s dangerous.\n",
    "\n",
    "✅ Expected Output for Sample:\n",
    "\n",
    "[\n",
    "\"curl http://malicious.com --output file.txt\",\n",
    "\"rm -rf /\",\n",
    "\"sudo shutdown now\"\n",
    "]\n",
    "🔧 Constraints:\n",
    "Use only basic Python (no regex or external libs).\n",
    "\n",
    "Must use .lower() or .casefold() for case-insensitive matching.\n",
    "\n",
    "Solution should be clear and readable.\n",
    "\n",
    "You can start with:\n",
    "\n",
    "def filter_dangerous_commands(commands): # your code here\n",
    "Give it a try. Let me know your thought process, or if you get stuck — we’ll work through it together.\n"
   ]
  },
  {
   "cell_type": "code",
   "execution_count": null,
   "id": "d88a1021",
   "metadata": {},
   "outputs": [
    {
     "name": "stdout",
     "output_type": "stream",
     "text": [
      "['curl http://malicious.com --output file.txt', 'echo Hello World', 'rm -rf /', 'cd /home/user', 'wget https://safe-site.org/install.sh', 'sudo shutdown now']\n"
     ]
    }
   ],
   "source": [
    "commands = [\n",
    "    \"curl http://malicious.com --output file.txt\",\n",
    "    \"echo Hello World\",\n",
    "    \"rm -rf /\",\n",
    "    \"cd /home/user\",\n",
    "    \"wget https://safe-site.org/install.sh\",\n",
    "    \"sudo shutdown now\",\n",
    "]\n",
    "print(commands)\n"
   ]
  },
  {
   "cell_type": "code",
   "execution_count": null,
   "id": "6ae10ee7",
   "metadata": {},
   "outputs": [
    {
     "data": {
      "text/plain": [
       "list"
      ]
     },
     "execution_count": 25,
     "metadata": {},
     "output_type": "execute_result"
    }
   ],
   "source": [
    "type(commands)\n"
   ]
  },
  {
   "cell_type": "code",
   "execution_count": null,
   "id": "d59d2c25",
   "metadata": {},
   "outputs": [
    {
     "name": "stdout",
     "output_type": "stream",
     "text": [
      "['rm', 'sudo', 'curl']\n"
     ]
    }
   ],
   "source": [
    "# Create a list for dangerious commands\n",
    "dangerous_keywords = [\"rm\", \"sudo\", \"curl\"]\n",
    "print(dangerous_keywords)\n"
   ]
  },
  {
   "cell_type": "code",
   "execution_count": null,
   "id": "387283b2",
   "metadata": {},
   "outputs": [],
   "source": [
    "def detect_dangerous_commands(commands, dangerous_keywords):\n",
    "    flagged = []\n",
    "\n",
    "    for cmd in commands:\n",
    "        for keyword in dangerous_keywords:\n",
    "            if keyword.lower() in cmd.lower():  # case-insensitive match\n",
    "                flagged.append(cmd)\n",
    "                break  # no need to check other keywords once matched\n",
    "\n",
    "    return flagged\n"
   ]
  },
  {
   "cell_type": "code",
   "execution_count": null,
   "id": "eb2f3f0c",
   "metadata": {},
   "outputs": [
    {
     "data": {
      "text/plain": [
       "['curl http://malicious.com --output file.txt',\n",
       " 'rm -rf /',\n",
       " 'sudo shutdown now']"
      ]
     },
     "execution_count": 28,
     "metadata": {},
     "output_type": "execute_result"
    }
   ],
   "source": [
    "detect_dangerous_commands(commands, dangerous_keywords)\n"
   ]
  },
  {
   "cell_type": "markdown",
   "id": "86852734",
   "metadata": {},
   "source": [
    "🧪 Coding Question #3: User Ratings Aggregator\n",
    "You’re given a list of user review data from a mock app store. Each entry is a dictionary like this:\n",
    "\n",
    "reviews = [\n",
    "{\"app\": \"WhatsChat\", \"user\": \"alice\", \"rating\": 5},\n",
    "{\"app\": \"WhatsChat\", \"user\": \"bob\", \"rating\": 3},\n",
    "{\"app\": \"QuickNote\", \"user\": \"alice\", \"rating\": 4},\n",
    "{\"app\": \"QuickNote\", \"user\": \"carol\", \"rating\": 5},\n",
    "{\"app\": \"QuickNote\", \"user\": \"bob\", \"rating\": 4},\n",
    "{\"app\": \"WhatsChat\", \"user\": \"carol\", \"rating\": 4}\n",
    "]\n",
    "✅ Your Task\n",
    "Write a function average_app_ratings(reviews) that returns a dictionary like:\n",
    "\n",
    "{\n",
    "\"WhatsChat\": 4.0,\n",
    "\"QuickNote\": 4.33\n",
    "}\n",
    "Each app should be mapped to its average rating, rounded to two decimal places.\n",
    "\n",
    "🔧 Constraints\n",
    "Use only built-in Python structures.\n",
    "\n",
    "Assume input is clean (no duplicates, no missing fields).\n",
    "\n",
    "No need to sort or return ratings in any particular order.\n",
    "\n",
    "🧠 How You Might Approach It:\n",
    "Group ratings by app.\n",
    "\n",
    "For each app, sum ratings and count how many.\n",
    "\n",
    "Compute average and round.\n",
    "\n",
    "You can start with:\n",
    "\n",
    "def average_app_ratings(reviews): # Your code here\n",
    "Give it a shot — even if it’s partial, I’ll help guide you from there.\n"
   ]
  },
  {
   "cell_type": "code",
   "execution_count": null,
   "id": "14a13382",
   "metadata": {},
   "outputs": [
    {
     "name": "stdout",
     "output_type": "stream",
     "text": [
      "[{'app': 'WhatsChat', 'user': 'alice', 'rating': 5}, {'app': 'WhatsChat', 'user': 'bob', 'rating': 3}, {'app': 'QuickNote', 'user': 'alice', 'rating': 4}, {'app': 'QuickNote', 'user': 'carol', 'rating': 5}, {'app': 'QuickNote', 'user': 'bob', 'rating': 4}, {'app': 'WhatsChat', 'user': 'carol', 'rating': 4}]\n"
     ]
    }
   ],
   "source": [
    "reviews = [\n",
    "    {\"app\": \"WhatsChat\", \"user\": \"alice\", \"rating\": 5},\n",
    "    {\"app\": \"WhatsChat\", \"user\": \"bob\", \"rating\": 3},\n",
    "    {\"app\": \"QuickNote\", \"user\": \"alice\", \"rating\": 4},\n",
    "    {\"app\": \"QuickNote\", \"user\": \"carol\", \"rating\": 5},\n",
    "    {\"app\": \"QuickNote\", \"user\": \"bob\", \"rating\": 4},\n",
    "    {\"app\": \"WhatsChat\", \"user\": \"carol\", \"rating\": 4},\n",
    "]\n",
    "print(reviews)\n"
   ]
  },
  {
   "cell_type": "code",
   "execution_count": null,
   "id": "d08e1ee0",
   "metadata": {},
   "outputs": [],
   "source": [
    "def average_app_ratings(reviews):\n",
    "\n",
    "    app_ratings = {}\n",
    "\n",
    "    for log in reviews:\n",
    "        app = log[\"app\"]\n",
    "        user = log[\"user\"]\n",
    "        rating = log[\"rating\"]\n",
    "\n",
    "        if app not in app_ratings:\n",
    "            app_ratings[app] = []\n",
    "\n",
    "        app_ratings[app].append(rating)\n",
    "\n",
    "        app_averages = {}\n",
    "        for app, ratings in app_ratings.items():\n",
    "            average_rating = sum(ratings) / len(ratings)\n",
    "            app_averages[app] = round(average_rating, 2)\n",
    "\n",
    "    return app_averages\n"
   ]
  },
  {
   "cell_type": "code",
   "execution_count": null,
   "id": "d2ee400d",
   "metadata": {},
   "outputs": [
    {
     "data": {
      "text/plain": [
       "{'WhatsChat': 4.0, 'QuickNote': 4.33}"
      ]
     },
     "execution_count": 41,
     "metadata": {},
     "output_type": "execute_result"
    }
   ],
   "source": [
    "average_app_ratings(reviews)\n"
   ]
  },
  {
   "cell_type": "code",
   "execution_count": null,
   "id": "8aef5906",
   "metadata": {},
   "outputs": [],
   "source": []
  }
 ],
 "metadata": {
  "kernelspec": {
   "display_name": "base",
   "language": "python",
   "name": "python3"
  },
  "language_info": {
   "codemirror_mode": {
    "name": "ipython",
    "version": 3
   },
   "file_extension": ".py",
   "mimetype": "text/x-python",
   "name": "python",
   "nbconvert_exporter": "python",
   "pygments_lexer": "ipython3",
   "version": "3.12.3"
  }
 },
 "nbformat": 4,
 "nbformat_minor": 5
}

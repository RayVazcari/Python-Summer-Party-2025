{
 "cells": [
  {
   "cell_type": "markdown",
   "id": "c29aa25a",
   "metadata": {},
   "source": [
    "Day 13 of Python Summer Party\n",
    "\n",
    "by Interview Master\n",
    "\n",
    "Shake Shack\n",
    "\n",
    "New Milkshake Flavor Selection for Launch\n",
    "\n",
    "You are a Product Analyst working with the Shake Shack R&D team to evaluate customer ratings for experimental milkshake flavors. Your team has collected ratings data from a small sampling test. Your task is to systematically analyze and clean the ratings data to identify top-performing flavors."
   ]
  },
  {
   "cell_type": "markdown",
   "id": "c394f8ff",
   "metadata": {},
   "source": [
    "Question 1 of 3\n",
    "\n",
    "There was an error in our data collection process, and we unknowingly introduced duplciate rows into our data. Remove any duplicate entries in the customer ratings data to ensure the accuracy of the analysis."
   ]
  },
  {
   "cell_type": "code",
   "execution_count": null,
   "id": "5088f6d1",
   "metadata": {},
   "outputs": [],
   "source": []
  },
  {
   "cell_type": "markdown",
   "id": "1bb4f30b",
   "metadata": {},
   "source": [
    "Question 2:\n",
    "For each milkshake flavor, calculate the average customer rating and append this as a new column to the milkshake_ratings DataFrame. Don't forget to clean the DataFrame first by dropping duplicate values."
   ]
  },
  {
   "cell_type": "markdown",
   "id": "9ea5520a",
   "metadata": {},
   "source": [
    "Question 3:\n",
    "For each row in the dataset, calculate the difference between that customer's rating and the average rating for the flavor. Don't forget to clean the DataFrame first by dropping duplicate values."
   ]
  },
  {
   "cell_type": "markdown",
   "id": "5f9dfe7d",
   "metadata": {},
   "source": []
  }
 ],
 "metadata": {
  "language_info": {
   "name": "python"
  }
 },
 "nbformat": 4,
 "nbformat_minor": 5
}

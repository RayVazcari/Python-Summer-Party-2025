{
 "cells": [
  {
   "cell_type": "markdown",
   "id": "c29aa25a",
   "metadata": {},
   "source": [
    "Day 13 of Python Summer Party\n",
    "\n",
    "by Interview Master\n",
    "\n",
    "Shake Shack\n",
    "\n",
    "New Milkshake Flavor Selection for Launch\n",
    "\n",
    "You are a Product Analyst working with the Shake Shack R&D team to evaluate customer ratings for experimental milkshake flavors. Your team has collected ratings data from a small sampling test. Your task is to systematically analyze and clean the ratings data to identify top-performing flavors."
   ]
  },
  {
   "cell_type": "markdown",
   "id": "c394f8ff",
   "metadata": {},
   "source": [
    "Question 1 of 3\n",
    "\n",
    "There was an error in our data collection process, and we unknowingly introduced duplciate rows into our data. Remove any duplicate entries in the customer ratings data to ensure the accuracy of the analysis."
   ]
  },
  {
   "cell_type": "code",
   "execution_count": null,
   "id": "5088f6d1",
   "metadata": {},
   "outputs": [],
   "source": []
  }
 ],
 "metadata": {
  "language_info": {
   "name": "python"
  }
 },
 "nbformat": 4,
 "nbformat_minor": 5
}

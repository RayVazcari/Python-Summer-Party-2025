{
 "cells": [
  {
   "cell_type": "markdown",
   "id": "b0c3b978",
   "metadata": {},
   "source": [
    "Day 8 of Python Summer Party\n",
    "\n",
    "by Interview Master\n",
    "\n",
    "Lululemon\n",
    "\n",
    "Payment Method Impact on Athleisure Online Sales\n",
    "\n",
    "You are a Product Analyst for the Lululemon Online Store team investigating how alternative payment methods might influence sales performance. The team wants to understand the potential impact of introducing a new installment payment option. Your analysis will predict sales lift and customer conversion for the proposed payment method."
   ]
  },
  {
   "cell_type": "markdown",
   "id": "a723598a",
   "metadata": {},
   "source": [
    "Question 1 of 3\n",
    "\n",
    "Between April 1st and June 30th, 2025, what is the count of transactions for each payment method? This analysis will establish the baseline distribution of how customers currently pay.\n",
    "\n",
    "Question 2:\n",
    "\n",
    "Between April 1st and June 30th, 2025, what is the average order value for each payment method? This metric will help us assess which payment methods are tied to higher spending levels.\n",
    "\n",
    "Question 3:\n",
    "\n",
    "Between April 1st and June 30th, 2025, what would be the predicted sales lift if a 'pay over time' option were introduced? Assume that 20% of credit card transactions during this period would switch to using the 'pay over time' option. And that for these switched transactions, the order value is expected to increase by 15% based on the average order value of all credit card transactions in that same time period."
   ]
  },
  {
   "cell_type": "code",
   "execution_count": null,
   "id": "5ac928c9",
   "metadata": {},
   "outputs": [],
   "source": []
  }
 ],
 "metadata": {
  "language_info": {
   "name": "python"
  }
 },
 "nbformat": 4,
 "nbformat_minor": 5
}

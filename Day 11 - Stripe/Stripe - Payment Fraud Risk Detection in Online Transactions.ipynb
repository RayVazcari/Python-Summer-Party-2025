{
 "cells": [
  {
   "cell_type": "markdown",
   "id": "739009c5",
   "metadata": {},
   "source": [
    "Day 11 of Python Summer Party\n",
    "\n",
    "by Interview Master\n",
    "\n",
    "Stripe\n",
    "\n",
    "Payment Fraud Risk Detection in Online Transactions\n",
    "\n",
    "You are a data analyst in Stripe's risk management team investigating transaction patterns to identify potential fraud. The team needs to develop a systematic approach to screen transactions for financial risks. Your goal is to create an initial risk assessment methodology using transaction characteristics."
   ]
  },
  {
   "cell_type": "markdown",
   "id": "8c4587a1",
   "metadata": {},
   "source": [
    "Question 1 of 3\n",
    "\n",
    "How many transactions in October 2024 have a customer email ending with a domain other than 'gmail.com', 'yahoo.com', or 'hotmail.com'? This metric will help us identify transactions associated with less common email providers that may indicate emerging risk patterns.\n",
    "\n",
    "Question 2\n",
    "\n",
    "For transactions occurring in November 2024, what is the average transaction amount, using 0 as a default for any missing values? This calculation will help us detect abnormal transaction amounts that could be related to fraudulent activity.\n",
    "\n",
    "Question 3\n",
    "\n",
    "Among transactions flagged as 'High' risk in December 2024, which day of the week recorded the highest number of such transactions? This analysis is intended to pinpoint specific days with concentrated high-risk activity and support the development of our preliminary fraud detection score."
   ]
  },
  {
   "cell_type": "code",
   "execution_count": null,
   "id": "88ee4945",
   "metadata": {},
   "outputs": [],
   "source": []
  }
 ],
 "metadata": {
  "language_info": {
   "name": "python"
  }
 },
 "nbformat": 4,
 "nbformat_minor": 5
}

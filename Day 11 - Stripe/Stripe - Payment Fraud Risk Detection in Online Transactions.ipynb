{
 "cells": [
  {
   "cell_type": "markdown",
   "id": "739009c5",
   "metadata": {},
   "source": [
    "Day 11 of Python Summer Party\n",
    "\n",
    "by Interview Master\n",
    "\n",
    "Stripe\n",
    "\n",
    "Payment Fraud Risk Detection in Online Transactions\n",
    "\n",
    "You are a data analyst in Stripe's risk management team investigating transaction patterns to identify potential fraud. The team needs to develop a systematic approach to screen transactions for financial risks. Your goal is to create an initial risk assessment methodology using transaction characteristics."
   ]
  },
  {
   "cell_type": "code",
   "execution_count": 1,
   "id": "eb3807d6",
   "metadata": {},
   "outputs": [],
   "source": [
    "import pandas as pd\n",
    "import numpy as np\n"
   ]
  },
  {
   "cell_type": "code",
   "execution_count": 2,
   "id": "074edc1c",
   "metadata": {},
   "outputs": [
    {
     "name": "stdout",
     "output_type": "stream",
     "text": [
      "<class 'pandas.core.frame.DataFrame'>\n",
      "RangeIndex: 15 entries, 0 to 14\n",
      "Data columns (total 5 columns):\n",
      " #   Column                 Non-Null Count  Dtype  \n",
      "---  ------                 --------------  -----  \n",
      " 0   customer_email         15 non-null     object \n",
      " 1   transaction_id         15 non-null     int64  \n",
      " 2   transaction_date       15 non-null     object \n",
      " 3   transaction_amount     14 non-null     float64\n",
      " 4   fraud_detection_score  15 non-null     int64  \n",
      "dtypes: float64(1), int64(2), object(2)\n",
      "memory usage: 732.0+ bytes\n",
      "None\n",
      "\n",
      "          customer_email  transaction_id transaction_date  transaction_amount  \\\n",
      "0        alice@gmail.com               1       2024-10-05              120.00   \n",
      "1   bob@customdomain.com               2       2024-10-15              250.50   \n",
      "2      charlie@yahoo.com               3       2024-10-20               75.25   \n",
      "3       dana@hotmail.com               4       2024-10-25              100.00   \n",
      "4            eve@biz.org               5       2024-10-30              300.00   \n",
      "5        frank@gmail.com               6       2024-11-03              150.75   \n",
      "6      grace@outlook.com               7       2024-11-10                 NaN   \n",
      "7         ivan@yahoo.com               8       2024-11-15              200.00   \n",
      "8       judy@hotmail.com               9       2024-11-21              250.00   \n",
      "9         ken@domain.net              10       2024-11-29              300.00   \n",
      "10    laura@riskmail.com              11       2024-12-02              100.00   \n",
      "11    mike@securepay.com              12       2024-12-03              180.00   \n",
      "12     nina@trusthub.com              13       2024-12-09              220.00   \n",
      "13     oscar@fintech.com              14       2024-12-16              140.00   \n",
      "14    paula@alertsys.com              15       2024-12-23              260.00   \n",
      "\n",
      "    fraud_detection_score  \n",
      "0                      10  \n",
      "1                      20  \n",
      "2                      15  \n",
      "3                      30  \n",
      "4                      40  \n",
      "5                      25  \n",
      "6                      50  \n",
      "7                      35  \n",
      "8                      45  \n",
      "9                      55  \n",
      "10                     80  \n",
      "11                     85  \n",
      "12                     90  \n",
      "13                     70  \n",
      "14                     95  \n",
      "\n",
      "<class 'pandas.core.frame.DataFrame'>\n",
      "RangeIndex: 10 entries, 0 to 9\n",
      "Data columns (total 3 columns):\n",
      " #   Column          Non-Null Count  Dtype \n",
      "---  ------          --------------  ----- \n",
      " 0   risk_level      10 non-null     object\n",
      " 1   risk_flag_id    10 non-null     int64 \n",
      " 2   transaction_id  10 non-null     int64 \n",
      "dtypes: int64(2), object(1)\n",
      "memory usage: 372.0+ bytes\n",
      "None\n",
      "\n",
      "  risk_level  risk_flag_id  transaction_id\n",
      "0        Low             1               2\n",
      "1     Medium             2               7\n",
      "2       High             3              11\n",
      "3       High             4              12\n",
      "4       High             5              13\n",
      "5     Medium             6              14\n",
      "6       High             7              15\n",
      "7        Low             8               1\n",
      "8     Medium             9               6\n",
      "9        Low            10               3\n",
      "\n"
     ]
    }
   ],
   "source": [
    "# Load the CSV file into a DataFrame and display it\n",
    "fct_transactions = pd.read_csv('fct_transactions.csv')\n",
    "dim_risk_flags = pd.read_csv('dim_risk_flags.csv')\n",
    "\n",
    "fct_transactions_df = fct_transactions.copy()\n",
    "dim_risk_flags_df = dim_risk_flags.copy()\n",
    "\n",
    "print(fct_transactions_df.info())\n",
    "print()\n",
    "print(fct_transactions_df)\n",
    "print()\n",
    "print(dim_risk_flags_df.info())\n",
    "print()\n",
    "print(dim_risk_flags_df)\n",
    "print()\n"
   ]
  },
  {
   "cell_type": "markdown",
   "id": "8c4587a1",
   "metadata": {},
   "source": [
    "Question 1 of 3\n",
    "\n",
    "How many transactions in October 2024 have a customer email ending with a domain other than 'gmail.com', 'yahoo.com', or 'hotmail.com'? This metric will help us identify transactions associated with less common email providers that may indicate emerging risk patterns."
   ]
  },
  {
   "cell_type": "code",
   "execution_count": 3,
   "id": "195d77ce",
   "metadata": {},
   "outputs": [
    {
     "name": "stdout",
     "output_type": "stream",
     "text": [
      "'transaction_date' after converting to datetime format:\n",
      "<class 'pandas.core.frame.DataFrame'>\n",
      "RangeIndex: 15 entries, 0 to 14\n",
      "Data columns (total 5 columns):\n",
      " #   Column                 Non-Null Count  Dtype         \n",
      "---  ------                 --------------  -----         \n",
      " 0   customer_email         15 non-null     object        \n",
      " 1   transaction_id         15 non-null     int64         \n",
      " 2   transaction_date       15 non-null     datetime64[ns]\n",
      " 3   transaction_amount     14 non-null     float64       \n",
      " 4   fraud_detection_score  15 non-null     int64         \n",
      "dtypes: datetime64[ns](1), float64(1), int64(2), object(1)\n",
      "memory usage: 732.0+ bytes\n",
      "None\n",
      "\n",
      "['alice@gmail.com' 'bob@customdomain.com' 'charlie@yahoo.com'\n",
      " 'dana@hotmail.com' 'eve@biz.org' 'frank@gmail.com' 'grace@outlook.com'\n",
      " 'ivan@yahoo.com' 'judy@hotmail.com' 'ken@domain.net' 'laura@riskmail.com'\n",
      " 'mike@securepay.com' 'nina@trusthub.com' 'oscar@fintech.com'\n",
      " 'paula@alertsys.com']\n"
     ]
    }
   ],
   "source": [
    "# First we need to normalize and transform the 'transaction_date' column to datetime format\n",
    "fct_transactions_df['transaction_date'] = pd.to_datetime(fct_transactions_df['transaction_date'], format='%Y-%m-%d', errors='coerce')\n",
    "print(\"'transaction_date' after converting to datetime format:\")\n",
    "print(fct_transactions_df.info())\n",
    "print()\n",
    "\n",
    "# Lets find inconsistencies in 'customer_email'\n",
    "print(fct_transactions_df['customer_email'].unique())\n"
   ]
  },
  {
   "cell_type": "code",
   "execution_count": 4,
   "id": "a090e0a3",
   "metadata": {},
   "outputs": [
    {
     "name": "stdout",
     "output_type": "stream",
     "text": [
      "<class 'pandas.core.frame.DataFrame'>\n",
      "Index: 5 entries, 0 to 4\n",
      "Data columns (total 5 columns):\n",
      " #   Column                 Non-Null Count  Dtype         \n",
      "---  ------                 --------------  -----         \n",
      " 0   customer_email         5 non-null      object        \n",
      " 1   transaction_id         5 non-null      int64         \n",
      " 2   transaction_date       5 non-null      datetime64[ns]\n",
      " 3   transaction_amount     5 non-null      float64       \n",
      " 4   fraud_detection_score  5 non-null      int64         \n",
      "dtypes: datetime64[ns](1), float64(1), int64(2), object(1)\n",
      "memory usage: 240.0+ bytes\n",
      "None\n",
      "         customer_email  transaction_id transaction_date  transaction_amount  \\\n",
      "0       alice@gmail.com               1       2024-10-05              120.00   \n",
      "1  bob@customdomain.com               2       2024-10-15              250.50   \n",
      "2     charlie@yahoo.com               3       2024-10-20               75.25   \n",
      "3      dana@hotmail.com               4       2024-10-25              100.00   \n",
      "4           eve@biz.org               5       2024-10-30              300.00   \n",
      "\n",
      "   fraud_detection_score  \n",
      "0                     10  \n",
      "1                     20  \n",
      "2                     15  \n",
      "3                     30  \n",
      "4                     40  \n"
     ]
    }
   ],
   "source": [
    "# 'customer_email' is clean, no inconsistencies\n",
    "# Now we will have to group the data by transaction_date\n",
    "fct_oct_transactions_df = fct_transactions_df[(fct_transactions_df['transaction_date'] >= '2024-10-01') & (fct_transactions_df['transaction_date'] < '2024-11-01')]\n",
    "print(fct_oct_transactions_df.info()) \n",
    "print(fct_oct_transactions_df.head())\n"
   ]
  },
  {
   "cell_type": "code",
   "execution_count": 5,
   "id": "4a76b5b7",
   "metadata": {},
   "outputs": [
    {
     "name": "stdout",
     "output_type": "stream",
     "text": [
      "         customer_email  transaction_id transaction_date  transaction_amount  \\\n",
      "1  bob@customdomain.com               2       2024-10-15               250.5   \n",
      "4           eve@biz.org               5       2024-10-30               300.0   \n",
      "\n",
      "   fraud_detection_score  \n",
      "1                     20  \n",
      "4                     40  \n"
     ]
    }
   ],
   "source": [
    "# We will now find transactions with a domain other than 'gmail.com', 'yahoo.com', or 'hotmail.com'\n",
    "# To do that we need to define a tuple of valid domains\n",
    "valid_domains = ('@gmail.com', '@yahoo.com', '@hotmail.com')\n",
    "\n",
    "# Then we will find the transactions using '~' as negation and the 'str.endswith' method\n",
    "fct_oct_trans_val_email_df = fct_oct_transactions_df[~fct_oct_transactions_df['customer_email'].str.endswith(valid_domains, na=False)]\n",
    "print(fct_oct_trans_val_email_df)\n"
   ]
  },
  {
   "cell_type": "code",
   "execution_count": 6,
   "id": "863bbcfc",
   "metadata": {},
   "outputs": [
    {
     "name": "stdout",
     "output_type": "stream",
     "text": [
      "There are only 2 transactions with with a domain other than 'gmail.com', 'yahoo.com', or 'hotmail.com'\n"
     ]
    }
   ],
   "source": [
    "# Now we display the count of transactions by customer_email\n",
    "print(\"There are only\", fct_oct_trans_val_email_df.shape[0], \"transactions with with a domain other than 'gmail.com', 'yahoo.com', or 'hotmail.com'\")\n"
   ]
  },
  {
   "cell_type": "markdown",
   "id": "e5de4307",
   "metadata": {},
   "source": [
    "Question 2\n",
    "\n",
    "For transactions occurring in November 2024, what is the average transaction amount, using 0 as a default for any missing values? This calculation will help us detect abnormal transaction amounts that could be related to fraudulent activity."
   ]
  },
  {
   "cell_type": "code",
   "execution_count": 7,
   "id": "c0858b34",
   "metadata": {},
   "outputs": [
    {
     "name": "stdout",
     "output_type": "stream",
     "text": [
      "<class 'pandas.core.frame.DataFrame'>\n",
      "Index: 5 entries, 5 to 9\n",
      "Data columns (total 5 columns):\n",
      " #   Column                 Non-Null Count  Dtype         \n",
      "---  ------                 --------------  -----         \n",
      " 0   customer_email         5 non-null      object        \n",
      " 1   transaction_id         5 non-null      int64         \n",
      " 2   transaction_date       5 non-null      datetime64[ns]\n",
      " 3   transaction_amount     4 non-null      float64       \n",
      " 4   fraud_detection_score  5 non-null      int64         \n",
      "dtypes: datetime64[ns](1), float64(1), int64(2), object(1)\n",
      "memory usage: 240.0+ bytes\n",
      "None\n",
      "      customer_email  transaction_id transaction_date  transaction_amount  \\\n",
      "5    frank@gmail.com               6       2024-11-03              150.75   \n",
      "6  grace@outlook.com               7       2024-11-10                 NaN   \n",
      "7     ivan@yahoo.com               8       2024-11-15              200.00   \n",
      "8   judy@hotmail.com               9       2024-11-21              250.00   \n",
      "9     ken@domain.net              10       2024-11-29              300.00   \n",
      "\n",
      "   fraud_detection_score  \n",
      "5                     25  \n",
      "6                     50  \n",
      "7                     35  \n",
      "8                     45  \n",
      "9                     55  \n"
     ]
    }
   ],
   "source": [
    "# We will need to re-filter the date to include november 2024\n",
    "fct_nov_transactions_df = fct_transactions_df[(fct_transactions_df['transaction_date'] >= '2024-11-01') & (fct_transactions_df['transaction_date'] < '2024-12-01')]\n",
    "print(fct_nov_transactions_df.info()) \n",
    "print(fct_nov_transactions_df.head())\n"
   ]
  },
  {
   "cell_type": "code",
   "execution_count": 8,
   "id": "2b759a0b",
   "metadata": {},
   "outputs": [
    {
     "name": "stdout",
     "output_type": "stream",
     "text": [
      "<class 'pandas.core.frame.DataFrame'>\n",
      "Index: 5 entries, 5 to 9\n",
      "Data columns (total 5 columns):\n",
      " #   Column                 Non-Null Count  Dtype         \n",
      "---  ------                 --------------  -----         \n",
      " 0   customer_email         5 non-null      object        \n",
      " 1   transaction_id         5 non-null      int64         \n",
      " 2   transaction_date       5 non-null      datetime64[ns]\n",
      " 3   transaction_amount     5 non-null      float64       \n",
      " 4   fraud_detection_score  5 non-null      int64         \n",
      "dtypes: datetime64[ns](1), float64(1), int64(2), object(1)\n",
      "memory usage: 240.0+ bytes\n",
      "None\n"
     ]
    }
   ],
   "source": [
    "# We can see that there is one null value for transaction_ammount so we will be replacinging it with 0\n",
    "fct_nov_transactions_df = fct_nov_transactions_df.copy()\n",
    "fct_nov_transactions_df['transaction_amount'] = pd.to_numeric(fct_nov_transactions_df['transaction_amount'], errors='coerce').fillna(0)\n",
    "print(fct_nov_transactions_df.info())\n"
   ]
  },
  {
   "cell_type": "code",
   "execution_count": 9,
   "id": "753979ff",
   "metadata": {},
   "outputs": [
    {
     "name": "stdout",
     "output_type": "stream",
     "text": [
      "The average transaction amount for the whole month of November 2024 is: 180.15\n"
     ]
    }
   ],
   "source": [
    "# Now that we got rid of the null values we can proceed and calculate the average transaction amount for the whole month\n",
    "fct_nov_avg_transaction_df = fct_nov_transactions_df['transaction_amount'].mean()\n",
    "print(\"The average transaction amount for the whole month of November 2024 is:\", fct_nov_avg_transaction_df)\n"
   ]
  },
  {
   "cell_type": "markdown",
   "id": "c35c43a8",
   "metadata": {},
   "source": [
    "Question 3\n",
    "\n",
    "Among transactions flagged as 'High' risk in December 2024, which day of the week recorded the highest number of such transactions? This analysis is intended to pinpoint specific days with concentrated high-risk activity and support the development of our preliminary fraud detection score."
   ]
  },
  {
   "cell_type": "code",
   "execution_count": 10,
   "id": "dcc94f6e",
   "metadata": {},
   "outputs": [
    {
     "name": "stdout",
     "output_type": "stream",
     "text": [
      "<class 'pandas.core.frame.DataFrame'>\n",
      "Index: 5 entries, 10 to 14\n",
      "Data columns (total 5 columns):\n",
      " #   Column                 Non-Null Count  Dtype         \n",
      "---  ------                 --------------  -----         \n",
      " 0   customer_email         5 non-null      object        \n",
      " 1   transaction_id         5 non-null      int64         \n",
      " 2   transaction_date       5 non-null      datetime64[ns]\n",
      " 3   transaction_amount     5 non-null      float64       \n",
      " 4   fraud_detection_score  5 non-null      int64         \n",
      "dtypes: datetime64[ns](1), float64(1), int64(2), object(1)\n",
      "memory usage: 240.0+ bytes\n",
      "None\n",
      "        customer_email  transaction_id transaction_date  transaction_amount  \\\n",
      "10  laura@riskmail.com              11       2024-12-02               100.0   \n",
      "11  mike@securepay.com              12       2024-12-03               180.0   \n",
      "12   nina@trusthub.com              13       2024-12-09               220.0   \n",
      "13   oscar@fintech.com              14       2024-12-16               140.0   \n",
      "14  paula@alertsys.com              15       2024-12-23               260.0   \n",
      "\n",
      "    fraud_detection_score  \n",
      "10                     80  \n",
      "11                     85  \n",
      "12                     90  \n",
      "13                     70  \n",
      "14                     95  \n"
     ]
    }
   ],
   "source": [
    "# We start again by filtering for transactions in December 2024\n",
    "fct_dec_transactions_df = fct_transactions_df[(fct_transactions_df['transaction_date'] >= '2024-12-01') & (fct_transactions_df['transaction_date'] < '2025-01-01')]\n",
    "print(fct_dec_transactions_df.info()) \n",
    "print(fct_dec_transactions_df.head())\n"
   ]
  },
  {
   "cell_type": "code",
   "execution_count": 11,
   "id": "1e2bedd3",
   "metadata": {},
   "outputs": [
    {
     "name": "stdout",
     "output_type": "stream",
     "text": [
      "<class 'pandas.core.frame.DataFrame'>\n",
      "RangeIndex: 5 entries, 0 to 4\n",
      "Data columns (total 7 columns):\n",
      " #   Column                 Non-Null Count  Dtype         \n",
      "---  ------                 --------------  -----         \n",
      " 0   customer_email         5 non-null      object        \n",
      " 1   transaction_id         5 non-null      int64         \n",
      " 2   transaction_date       5 non-null      datetime64[ns]\n",
      " 3   transaction_amount     5 non-null      float64       \n",
      " 4   fraud_detection_score  5 non-null      int64         \n",
      " 5   risk_level             5 non-null      object        \n",
      " 6   risk_flag_id           5 non-null      int64         \n",
      "dtypes: datetime64[ns](1), float64(1), int64(3), object(2)\n",
      "memory usage: 412.0+ bytes\n",
      "None\n",
      "       customer_email  transaction_id transaction_date  transaction_amount  \\\n",
      "0  laura@riskmail.com              11       2024-12-02               100.0   \n",
      "1  mike@securepay.com              12       2024-12-03               180.0   \n",
      "2   nina@trusthub.com              13       2024-12-09               220.0   \n",
      "3   oscar@fintech.com              14       2024-12-16               140.0   \n",
      "4  paula@alertsys.com              15       2024-12-23               260.0   \n",
      "\n",
      "   fraud_detection_score risk_level  risk_flag_id  \n",
      "0                     80       High             3  \n",
      "1                     85       High             4  \n",
      "2                     90       High             5  \n",
      "3                     70     Medium             6  \n",
      "4                     95       High             7  \n"
     ]
    }
   ],
   "source": [
    "# Then we will need to append the 'dim_risk_flags' DataFrame to the 'fct_transactions' DataFrame\n",
    "fct_dec_tran_risk_df = pd.merge(fct_dec_transactions_df, dim_risk_flags_df, how='left', on='transaction_id')\n",
    "print(fct_dec_tran_risk_df.info())\n",
    "print(fct_dec_tran_risk_df)\n"
   ]
  },
  {
   "cell_type": "code",
   "execution_count": 12,
   "id": "9efd4638",
   "metadata": {},
   "outputs": [
    {
     "name": "stdout",
     "output_type": "stream",
     "text": [
      "<class 'pandas.core.frame.DataFrame'>\n",
      "Index: 4 entries, 0 to 4\n",
      "Data columns (total 7 columns):\n",
      " #   Column                 Non-Null Count  Dtype         \n",
      "---  ------                 --------------  -----         \n",
      " 0   customer_email         4 non-null      object        \n",
      " 1   transaction_id         4 non-null      int64         \n",
      " 2   transaction_date       4 non-null      datetime64[ns]\n",
      " 3   transaction_amount     4 non-null      float64       \n",
      " 4   fraud_detection_score  4 non-null      int64         \n",
      " 5   risk_level             4 non-null      object        \n",
      " 6   risk_flag_id           4 non-null      int64         \n",
      "dtypes: datetime64[ns](1), float64(1), int64(3), object(2)\n",
      "memory usage: 256.0+ bytes\n",
      "None\n"
     ]
    }
   ],
   "source": [
    "# Filter for high risk transactions\n",
    "dec_high_risk = fct_dec_tran_risk_df[(fct_dec_tran_risk_df['risk_level'] == 'High')].copy()\n",
    "print(dec_high_risk.info())\n",
    "\n"
   ]
  },
  {
   "cell_type": "code",
   "execution_count": 13,
   "id": "c191a767",
   "metadata": {},
   "outputs": [
    {
     "name": "stdout",
     "output_type": "stream",
     "text": [
      "<class 'pandas.core.frame.DataFrame'>\n",
      "Index: 4 entries, 0 to 4\n",
      "Data columns (total 8 columns):\n",
      " #   Column                 Non-Null Count  Dtype         \n",
      "---  ------                 --------------  -----         \n",
      " 0   customer_email         4 non-null      object        \n",
      " 1   transaction_id         4 non-null      int64         \n",
      " 2   transaction_date       4 non-null      datetime64[ns]\n",
      " 3   transaction_amount     4 non-null      float64       \n",
      " 4   fraud_detection_score  4 non-null      int64         \n",
      " 5   risk_level             4 non-null      object        \n",
      " 6   risk_flag_id           4 non-null      int64         \n",
      " 7   day_of_week            4 non-null      object        \n",
      "dtypes: datetime64[ns](1), float64(1), int64(3), object(3)\n",
      "memory usage: 288.0+ bytes\n",
      "None\n",
      "       customer_email  transaction_id transaction_date  transaction_amount  \\\n",
      "0  laura@riskmail.com              11       2024-12-02               100.0   \n",
      "1  mike@securepay.com              12       2024-12-03               180.0   \n",
      "2   nina@trusthub.com              13       2024-12-09               220.0   \n",
      "4  paula@alertsys.com              15       2024-12-23               260.0   \n",
      "\n",
      "   fraud_detection_score risk_level  risk_flag_id day_of_week  \n",
      "0                     80       High             3      Monday  \n",
      "1                     85       High             4     Tuesday  \n",
      "2                     90       High             5      Monday  \n",
      "4                     95       High             7      Monday  \n"
     ]
    }
   ],
   "source": [
    "# Add weekday column\n",
    "dec_high_risk['day_of_week'] = dec_high_risk['transaction_date'].dt.day_name()\n",
    "print(dec_high_risk.info())\n",
    "print(dec_high_risk.head())\n",
    "\n"
   ]
  },
  {
   "cell_type": "code",
   "execution_count": 14,
   "id": "a747766a",
   "metadata": {},
   "outputs": [
    {
     "name": "stdout",
     "output_type": "stream",
     "text": [
      "\n",
      "Weekdays with high-risk activity in Dec 2024:\n",
      "  day_of_week  transaction_count\n",
      "0      Monday                  3\n",
      "1     Tuesday                  1\n",
      "\n",
      "Day with highest high-risk activity in Dec 2024:\n",
      "  day_of_week  transaction_count\n",
      "0      Monday                  3\n"
     ]
    }
   ],
   "source": [
    "# Count by weekday\n",
    "weekday_counts = dec_high_risk.groupby('day_of_week').size().reset_index(name='transaction_count')\n",
    "\n",
    "\n",
    "# Find the max\n",
    "max_day = weekday_counts.sort_values('transaction_count', ascending=False).head(1)\n",
    "\n",
    "# Answer to question 3 \n",
    "print(\"\\nWeekdays with high-risk activity in Dec 2024:\")\n",
    "print(weekday_counts)\n",
    "print(\"\\nDay with highest high-risk activity in Dec 2024:\")\n",
    "print(max_day)\n"
   ]
  }
 ],
 "metadata": {
  "kernelspec": {
   "display_name": "Python (CondaVEnv)",
   "language": "python",
   "name": "condavenv"
  },
  "language_info": {
   "codemirror_mode": {
    "name": "ipython",
    "version": 3
   },
   "file_extension": ".py",
   "mimetype": "text/x-python",
   "name": "python",
   "nbconvert_exporter": "python",
   "pygments_lexer": "ipython3",
   "version": "3.12.4"
  }
 },
 "nbformat": 4,
 "nbformat_minor": 5
}

{
 "cells": [
  {
   "cell_type": "markdown",
   "id": "46e233b8",
   "metadata": {},
   "source": [
    "Day 9 of Python Summer Party\n",
    "\n",
    "by Interview Master\n",
    "\n",
    "Meta\n",
    "\n",
    "Instagram Stories Daily User Creation Patterns\n",
    "\n",
    "You are a Product Analyst on the Instagram Stories team investigating story creation patterns. The team wants to understand the distribution of stories created by users daily. You will analyze user storytelling behavior to optimize engagement strategies."
   ]
  },
  {
   "cell_type": "markdown",
   "id": "ca2741df",
   "metadata": {},
   "source": [
    "Question 1 of 3\n",
    "\n",
    "Take a look at the data in the story_date column. Correct any data type inconsistencies in that column.\n",
    "\n",
    "Question 2:\n",
    "Calculate the 25th, 50th, and 75th percentiles of the number of stories created per user per day.\n",
    "\n",
    "Question 3:\n",
    "What percentage of users have had at least one day where they posted more than 10 stories on that day?"
   ]
  },
  {
   "cell_type": "code",
   "execution_count": null,
   "id": "6747c304",
   "metadata": {},
   "outputs": [],
   "source": []
  }
 ],
 "metadata": {
  "language_info": {
   "name": "python"
  }
 },
 "nbformat": 4,
 "nbformat_minor": 5
}

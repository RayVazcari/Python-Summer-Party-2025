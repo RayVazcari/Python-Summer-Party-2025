{
 "cells": [
  {
   "cell_type": "markdown",
   "id": "1ca92831",
   "metadata": {},
   "source": [
    "Day 15 of Python Summer Party\n",
    "\n",
    "by Interview Master\n",
    "\n",
    "Uber\n",
    "\n",
    "UberPool Driver Earnings Optimization Strategies\n",
    "\n",
    "You are a Business Analyst on the Uber Pool Product Team working to optimize driver compensation. The team aims to understand how trip characteristics impact driver earnings. Your goal is to develop data-driven recommendations that maximize driver earnings potential."
   ]
  },
  {
   "cell_type": "markdown",
   "id": "a67ecddd",
   "metadata": {},
   "source": [
    "Question 1 of 3\n",
    "\n",
    "What is the average driver earnings per completed UberPool ride with more than two riders between July 1st and September 30th, 2024? This analysis will help isolate trips that meet specific rider thresholds to understand their impact on driver earnings."
   ]
  },
  {
   "cell_type": "code",
   "execution_count": null,
   "id": "f99cc0fa",
   "metadata": {},
   "outputs": [],
   "source": []
  }
 ],
 "metadata": {
  "language_info": {
   "name": "python"
  }
 },
 "nbformat": 4,
 "nbformat_minor": 5
}

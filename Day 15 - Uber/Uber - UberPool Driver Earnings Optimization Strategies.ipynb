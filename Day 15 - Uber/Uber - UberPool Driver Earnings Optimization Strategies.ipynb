{
 "cells": [
  {
   "cell_type": "markdown",
   "id": "1ca92831",
   "metadata": {},
   "source": [
    "Day 15 of Python Summer Party\n",
    "\n",
    "by Interview Master\n",
    "\n",
    "Uber\n",
    "\n",
    "UberPool Driver Earnings Optimization Strategies\n",
    "\n",
    "You are a Business Analyst on the Uber Pool Product Team working to optimize driver compensation. The team aims to understand how trip characteristics impact driver earnings. Your goal is to develop data-driven recommendations that maximize driver earnings potential."
   ]
  },
  {
   "cell_type": "markdown",
   "id": "a67ecddd",
   "metadata": {},
   "source": [
    "Question 1 of 3\n",
    "\n",
    "What is the average driver earnings per completed UberPool ride with more than two riders between July 1st and September 30th, 2024? This analysis will help isolate trips that meet specific rider thresholds to understand their impact on driver earnings."
   ]
  },
  {
   "cell_type": "code",
   "execution_count": null,
   "id": "f99cc0fa",
   "metadata": {},
   "outputs": [],
   "source": []
  },
  {
   "cell_type": "markdown",
   "id": "b914c53b",
   "metadata": {},
   "source": [
    "Question 2\n",
    "\n",
    "For completed UberPool rides between July 1st and September 30th, 2024, derive a new column calculating earnings per mile (total_earnings divided by total_distance) and then compute the average earnings per mile for rides with more than two riders. This calculation will reveal efficiency metrics for driver compensation."
   ]
  },
  {
   "cell_type": "markdown",
   "id": "790365c8",
   "metadata": {},
   "source": [
    "Question 3\n",
    "\n",
    "Identify the combination of rider count and total distance that results in the highest average driver earnings per UberPool ride between July 1st and September 30th, 2024. This analysis directly recommends optimal trip combination strategies to maximize driver earnings."
   ]
  }
 ],
 "metadata": {
  "language_info": {
   "name": "python"
  }
 },
 "nbformat": 4,
 "nbformat_minor": 5
}

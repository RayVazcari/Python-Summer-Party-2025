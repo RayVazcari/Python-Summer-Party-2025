{
 "cells": [
  {
   "cell_type": "markdown",
   "id": "1ca92831",
   "metadata": {},
   "source": [
    "Day 15 of Python Summer Party\n",
    "\n",
    "by Interview Master\n",
    "\n",
    "Uber\n",
    "\n",
    "UberPool Driver Earnings Optimization Strategies\n",
    "\n",
    "You are a Business Analyst on the Uber Pool Product Team working to optimize driver compensation. The team aims to understand how trip characteristics impact driver earnings. Your goal is to develop data-driven recommendations that maximize driver earnings potential."
   ]
  },
  {
   "cell_type": "code",
   "execution_count": 1,
   "id": "8d9263c5",
   "metadata": {},
   "outputs": [
    {
     "name": "stdout",
     "output_type": "stream",
     "text": [
      "<class 'pandas.core.frame.DataFrame'>\n",
      "RangeIndex: 15 entries, 0 to 14\n",
      "Data columns (total 7 columns):\n",
      " #   Column          Non-Null Count  Dtype  \n",
      "---  ------          --------------  -----  \n",
      " 0   trip_id         15 non-null     int64  \n",
      " 1   driver_id       15 non-null     int64  \n",
      " 2   ride_type       15 non-null     object \n",
      " 3   trip_date       15 non-null     object \n",
      " 4   rider_count     15 non-null     int64  \n",
      " 5   total_distance  15 non-null     float64\n",
      " 6   total_earnings  15 non-null     float64\n",
      "dtypes: float64(2), int64(3), object(2)\n",
      "memory usage: 972.0+ bytes\n",
      "None\n",
      "\n",
      "    trip_id  driver_id ride_type   trip_date  rider_count  total_distance  \\\n",
      "0       101          1  UberPool  2024-07-05            3            10.5   \n",
      "1       102          1  UberPool  2024-07-15            2             8.0   \n",
      "2       103          2  UberPool  2024-08-10            4            15.0   \n",
      "3       104          3     UberX  2024-07-20            1             5.0   \n",
      "4       105          2  UberPool  2024-09-01            3            12.0   \n",
      "5       106          4  UberPool  2024-09-15            5            20.0   \n",
      "6       107          4  UberPool  2024-10-01            3             9.0   \n",
      "7       108          5  UberPool  2024-08-25            4            11.0   \n",
      "8       109          1  UberPool  2024-09-30            3             6.0   \n",
      "9       110          2  UberPool  2024-07-07            2             7.0   \n",
      "10      111          3  UberPool  2024-08-05            4            13.0   \n",
      "11      112          5     UberX  2024-09-10            1             4.0   \n",
      "12      113          6  UberPool  2024-07-30            3            22.0   \n",
      "13      114          6  UberPool  2024-08-22            4            18.0   \n",
      "14      115          7  UberPool  2024-09-21            5            25.0   \n",
      "\n",
      "    total_earnings  \n",
      "0             22.5  \n",
      "1             18.0  \n",
      "2             35.0  \n",
      "3             12.0  \n",
      "4             30.0  \n",
      "5             50.0  \n",
      "6             25.0  \n",
      "7             28.0  \n",
      "8             16.0  \n",
      "9             15.0  \n",
      "10            32.0  \n",
      "11            10.0  \n",
      "12            45.0  \n",
      "13            42.0  \n",
      "14            60.0  \n",
      "\n",
      "======================================================================================================================================================\n"
     ]
    }
   ],
   "source": [
    "import pandas as pd\n",
    "import numpy as np\n",
    "\n",
    "fct_trips = pd.read_csv('fct_trips.csv')\n",
    "fct_trips_df = fct_trips.copy()\n",
    "\n",
    "print(fct_trips.info())\n",
    "print()\n",
    "print(fct_trips_df)\n",
    "print()\n",
    "print(\"=\" * 150)\n"
   ]
  },
  {
   "cell_type": "markdown",
   "id": "a67ecddd",
   "metadata": {},
   "source": [
    "Question 1 of 3\n",
    "\n",
    "What is the average driver earnings per completed UberPool ride with more than two riders between July 1st and September 30th, 2024? This analysis will help isolate trips that meet specific rider thresholds to understand their impact on driver earnings."
   ]
  },
  {
   "cell_type": "code",
   "execution_count": 2,
   "id": "f7384813",
   "metadata": {},
   "outputs": [
    {
     "name": "stdout",
     "output_type": "stream",
     "text": [
      "<class 'pandas.core.frame.DataFrame'>\n",
      "RangeIndex: 15 entries, 0 to 14\n",
      "Data columns (total 7 columns):\n",
      " #   Column          Non-Null Count  Dtype         \n",
      "---  ------          --------------  -----         \n",
      " 0   trip_id         15 non-null     int64         \n",
      " 1   driver_id       15 non-null     int64         \n",
      " 2   ride_type       15 non-null     object        \n",
      " 3   trip_date       15 non-null     datetime64[ns]\n",
      " 4   rider_count     15 non-null     int64         \n",
      " 5   total_distance  15 non-null     float64       \n",
      " 6   total_earnings  15 non-null     float64       \n",
      "dtypes: datetime64[ns](1), float64(2), int64(3), object(1)\n",
      "memory usage: 972.0+ bytes\n",
      "None\n",
      "\n",
      "   trip_id  driver_id ride_type  trip_date  rider_count  total_distance  \\\n",
      "0      101          1  UberPool 2024-07-05            3            10.5   \n",
      "1      102          1  UberPool 2024-07-15            2             8.0   \n",
      "2      103          2  UberPool 2024-08-10            4            15.0   \n",
      "3      104          3     UberX 2024-07-20            1             5.0   \n",
      "4      105          2  UberPool 2024-09-01            3            12.0   \n",
      "\n",
      "   total_earnings  \n",
      "0            22.5  \n",
      "1            18.0  \n",
      "2            35.0  \n",
      "3            12.0  \n",
      "4            30.0  \n"
     ]
    }
   ],
   "source": [
    "# Fortunately we dont have any missing values in the dataset\n",
    "# However we will begin by analyzing numerical and non numerical columns\n",
    "# We will first however transform the date columns to datetime\n",
    "fct_trips_df['trip_date'] = pd.to_datetime(fct_trips_df['trip_date'], format='%Y-%m-%d', errors='coerce')\n",
    "print(fct_trips_df.info())\n",
    "print()\n",
    "print(fct_trips_df.head())\n"
   ]
  },
  {
   "cell_type": "code",
   "execution_count": 3,
   "id": "f99cc0fa",
   "metadata": {},
   "outputs": [
    {
     "name": "stdout",
     "output_type": "stream",
     "text": [
      "ride_type\n",
      "UberPool    13\n",
      "UberX        2\n",
      "Name: count, dtype: int64\n",
      "--------------------------------------------------\n"
     ]
    }
   ],
   "source": [
    "# Making a list of all categorical variables ()'object' or 'category')\n",
    "cat_cols = fct_trips_df.select_dtypes(include=['object', 'category']).columns\n",
    "\n",
    "# Iterate through each categorical column and print the count of unique categorical levels, followed by a separator line.\n",
    "for column in cat_cols:\n",
    "    print(fct_trips_df[column].value_counts())\n",
    "    print(\"-\" * 50)\n"
   ]
  },
  {
   "cell_type": "code",
   "execution_count": 4,
   "id": "e9dcd069",
   "metadata": {},
   "outputs": [
    {
     "name": "stdout",
     "output_type": "stream",
     "text": [
      "count     15.000000\n",
      "mean     108.000000\n",
      "std        4.472136\n",
      "min      101.000000\n",
      "25%      104.500000\n",
      "50%      108.000000\n",
      "75%      111.500000\n",
      "max      115.000000\n",
      "Name: trip_id, dtype: float64\n",
      "--------------------------------------------------\n",
      "count    15.000000\n",
      "mean      3.466667\n",
      "std       1.995232\n",
      "min       1.000000\n",
      "25%       2.000000\n",
      "50%       3.000000\n",
      "75%       5.000000\n",
      "max       7.000000\n",
      "Name: driver_id, dtype: float64\n",
      "--------------------------------------------------\n",
      "count    15.000000\n",
      "mean      3.133333\n",
      "std       1.245946\n",
      "min       1.000000\n",
      "25%       2.500000\n",
      "50%       3.000000\n",
      "75%       4.000000\n",
      "max       5.000000\n",
      "Name: rider_count, dtype: float64\n",
      "--------------------------------------------------\n",
      "count    15.000000\n",
      "mean     12.366667\n",
      "std       6.432248\n",
      "min       4.000000\n",
      "25%       7.500000\n",
      "50%      11.000000\n",
      "75%      16.500000\n",
      "max      25.000000\n",
      "Name: total_distance, dtype: float64\n",
      "--------------------------------------------------\n",
      "count    15.000000\n",
      "mean     29.366667\n",
      "std      14.799212\n",
      "min      10.000000\n",
      "25%      17.000000\n",
      "50%      28.000000\n",
      "75%      38.500000\n",
      "max      60.000000\n",
      "Name: total_earnings, dtype: float64\n",
      "--------------------------------------------------\n"
     ]
    }
   ],
   "source": [
    "# Making a list of all numerical variables ('int64', 'float64', 'complex')\n",
    "num_cols = fct_trips_df.select_dtypes(include=['int64', 'float64', 'complex']).columns\n",
    "\n",
    "# Iterate through each numerical column and print summary statistics, followed by a separator line.\n",
    "for column in num_cols:\n",
    "    print(fct_trips_df[column].describe())\n",
    "    print(\"-\" * 50)\n"
   ]
  },
  {
   "cell_type": "code",
   "execution_count": 5,
   "id": "c2807bc7",
   "metadata": {},
   "outputs": [
    {
     "name": "stdout",
     "output_type": "stream",
     "text": [
      "The number of missing values on each column of the data set is:\n",
      "trip_id           0\n",
      "driver_id         0\n",
      "ride_type         0\n",
      "trip_date         0\n",
      "rider_count       0\n",
      "total_distance    0\n",
      "total_earnings    0\n",
      "dtype: int64\n",
      "The number of duplicate values on the data set is: 0\n"
     ]
    }
   ],
   "source": [
    "# Checking missing values across each column\n",
    "missing_values = fct_trips_df.isnull().sum()\n",
    "print('The number of missing values on each column of the data set is:');\n",
    "print(missing_values)\n",
    "\n",
    "# Check for complete duplicate records\n",
    "duplicate_records = fct_trips_df.duplicated().sum()\n",
    "print('The number of duplicate values on the data set is:', duplicate_records)\n"
   ]
  },
  {
   "cell_type": "code",
   "execution_count": 6,
   "id": "493cd1a7",
   "metadata": {},
   "outputs": [
    {
     "name": "stdout",
     "output_type": "stream",
     "text": [
      "   trip_id  driver_id ride_type  trip_date  rider_count  total_distance  \\\n",
      "0      101          1  UberPool 2024-07-05            3            10.5   \n",
      "1      102          1  UberPool 2024-07-15            2             8.0   \n",
      "2      103          2  UberPool 2024-08-10            4            15.0   \n",
      "3      104          3     UberX 2024-07-20            1             5.0   \n",
      "4      105          2  UberPool 2024-09-01            3            12.0   \n",
      "\n",
      "   total_earnings  \n",
      "0            22.5  \n",
      "1            18.0  \n",
      "2            35.0  \n",
      "3            12.0  \n",
      "4            30.0  \n",
      "\n",
      "<class 'pandas.core.frame.DataFrame'>\n",
      "Index: 14 entries, 0 to 14\n",
      "Data columns (total 7 columns):\n",
      " #   Column          Non-Null Count  Dtype         \n",
      "---  ------          --------------  -----         \n",
      " 0   trip_id         14 non-null     int64         \n",
      " 1   driver_id       14 non-null     int64         \n",
      " 2   ride_type       14 non-null     object        \n",
      " 3   trip_date       14 non-null     datetime64[ns]\n",
      " 4   rider_count     14 non-null     int64         \n",
      " 5   total_distance  14 non-null     float64       \n",
      " 6   total_earnings  14 non-null     float64       \n",
      "dtypes: datetime64[ns](1), float64(2), int64(3), object(1)\n",
      "memory usage: 896.0+ bytes\n",
      "None\n"
     ]
    }
   ],
   "source": [
    "# Now we should begin by grouping rides dBetween July 1st 2024 and September 30 2024\n",
    "julsept_fct_trips_df = fct_trips_df[(fct_trips_df['trip_date'] >= '2024-07-01') & (fct_trips_df['trip_date'] <= '2024-09-30')]\n",
    "print(julsept_fct_trips_df.head())\n",
    "print()\n",
    "print(julsept_fct_trips_df.info())\n"
   ]
  },
  {
   "cell_type": "code",
   "execution_count": 7,
   "id": "b1f62e72",
   "metadata": {},
   "outputs": [
    {
     "name": "stdout",
     "output_type": "stream",
     "text": [
      "    trip_id  driver_id ride_type  trip_date  rider_count  total_distance  \\\n",
      "0       101          1  UberPool 2024-07-05            3            10.5   \n",
      "2       103          2  UberPool 2024-08-10            4            15.0   \n",
      "4       105          2  UberPool 2024-09-01            3            12.0   \n",
      "5       106          4  UberPool 2024-09-15            5            20.0   \n",
      "7       108          5  UberPool 2024-08-25            4            11.0   \n",
      "8       109          1  UberPool 2024-09-30            3             6.0   \n",
      "10      111          3  UberPool 2024-08-05            4            13.0   \n",
      "12      113          6  UberPool 2024-07-30            3            22.0   \n",
      "13      114          6  UberPool 2024-08-22            4            18.0   \n",
      "14      115          7  UberPool 2024-09-21            5            25.0   \n",
      "\n",
      "    total_earnings  \n",
      "0             22.5  \n",
      "2             35.0  \n",
      "4             30.0  \n",
      "5             50.0  \n",
      "7             28.0  \n",
      "8             16.0  \n",
      "10            32.0  \n",
      "12            45.0  \n",
      "13            42.0  \n",
      "14            60.0  \n",
      "\n",
      "The average total earnings for UberPool rides with more than 2 riders between July 1st 2024 and September 30 2024 is: $ 36.05\n"
     ]
    }
   ],
   "source": [
    "# Now we group by ride_type (UberPool), rider_count(>2)\n",
    "grouped_sep_jul_df =  julsept_fct_trips_df.query(\"(ride_type == 'UberPool') & (rider_count > 2)\")\n",
    "print(grouped_sep_jul_df)\n",
    "\n",
    "# Now we calculate the average total_earnings\n",
    "average_earnings_sep_jul = grouped_sep_jul_df['total_earnings'].mean()\n",
    "\n",
    "# Answer to Question 2\n",
    "print(\"\\nThe average total earnings for UberPool rides with more than 2 riders between July 1st 2024 and September 30 2024 is: $\",average_earnings_sep_jul)\n"
   ]
  },
  {
   "cell_type": "markdown",
   "id": "b914c53b",
   "metadata": {},
   "source": [
    "Question 2\n",
    "\n",
    "For completed UberPool rides between July 1st and September 30th, 2024, derive a q2 column calculating earnings per mile (total_earnings divided by total_distance) and then compute the average earnings per mile for rides with more than two riders. This calculation will reveal efficiency metrics for driver compensation."
   ]
  },
  {
   "cell_type": "code",
   "execution_count": 8,
   "id": "0d4ca875",
   "metadata": {},
   "outputs": [
    {
     "name": "stdout",
     "output_type": "stream",
     "text": [
      "   trip_id  driver_id ride_type  trip_date  rider_count  total_distance  \\\n",
      "0      101          1  UberPool 2024-07-05            3            10.5   \n",
      "1      102          1  UberPool 2024-07-15            2             8.0   \n",
      "2      103          2  UberPool 2024-08-10            4            15.0   \n",
      "3      104          3     UberX 2024-07-20            1             5.0   \n",
      "4      105          2  UberPool 2024-09-01            3            12.0   \n",
      "\n",
      "   total_earnings  \n",
      "0            22.5  \n",
      "1            18.0  \n",
      "2            35.0  \n",
      "3            12.0  \n",
      "4            30.0  \n",
      "\n",
      "<class 'pandas.core.frame.DataFrame'>\n",
      "Index: 14 entries, 0 to 14\n",
      "Data columns (total 7 columns):\n",
      " #   Column          Non-Null Count  Dtype         \n",
      "---  ------          --------------  -----         \n",
      " 0   trip_id         14 non-null     int64         \n",
      " 1   driver_id       14 non-null     int64         \n",
      " 2   ride_type       14 non-null     object        \n",
      " 3   trip_date       14 non-null     datetime64[ns]\n",
      " 4   rider_count     14 non-null     int64         \n",
      " 5   total_distance  14 non-null     float64       \n",
      " 6   total_earnings  14 non-null     float64       \n",
      "dtypes: datetime64[ns](1), float64(2), int64(3), object(1)\n",
      "memory usage: 896.0+ bytes\n",
      "None\n",
      "\n"
     ]
    }
   ],
   "source": [
    "# Display data again\n",
    "print(julsept_fct_trips_df.head())\n",
    "print()\n",
    "print(julsept_fct_trips_df.info())\n",
    "print()\n",
    "\n"
   ]
  },
  {
   "cell_type": "code",
   "execution_count": 9,
   "id": "cb08a40c",
   "metadata": {},
   "outputs": [
    {
     "name": "stdout",
     "output_type": "stream",
     "text": [
      "   trip_id  driver_id ride_type  trip_date  rider_count  total_distance  \\\n",
      "0      101          1  UberPool 2024-07-05            3            10.5   \n",
      "1      102          1  UberPool 2024-07-15            2             8.0   \n",
      "2      103          2  UberPool 2024-08-10            4            15.0   \n",
      "3      104          3     UberX 2024-07-20            1             5.0   \n",
      "4      105          2  UberPool 2024-09-01            3            12.0   \n",
      "\n",
      "   total_earnings  earnings_per_mile  \n",
      "0            22.5           2.142857  \n",
      "1            18.0           2.250000  \n",
      "2            35.0           2.333333  \n",
      "3            12.0           2.400000  \n",
      "4            30.0           2.500000  \n",
      "\n",
      "<class 'pandas.core.frame.DataFrame'>\n",
      "Index: 14 entries, 0 to 14\n",
      "Data columns (total 8 columns):\n",
      " #   Column             Non-Null Count  Dtype         \n",
      "---  ------             --------------  -----         \n",
      " 0   trip_id            14 non-null     int64         \n",
      " 1   driver_id          14 non-null     int64         \n",
      " 2   ride_type          14 non-null     object        \n",
      " 3   trip_date          14 non-null     datetime64[ns]\n",
      " 4   rider_count        14 non-null     int64         \n",
      " 5   total_distance     14 non-null     float64       \n",
      " 6   total_earnings     14 non-null     float64       \n",
      " 7   earnings_per_mile  14 non-null     float64       \n",
      "dtypes: datetime64[ns](1), float64(3), int64(3), object(1)\n",
      "memory usage: 1008.0+ bytes\n",
      "None\n",
      "\n"
     ]
    }
   ],
   "source": [
    "# Copy the dataframe to avoid overwriting\n",
    "q2_julsept_fct_df = julsept_fct_trips_df.copy()\n",
    "\n",
    "# Calculate earnings per mile\n",
    "q2_julsept_fct_df['earnings_per_mile'] = q2_julsept_fct_df['total_earnings'] / q2_julsept_fct_df['total_distance']\n",
    "print(q2_julsept_fct_df.head())\n",
    "print()\n",
    "print(q2_julsept_fct_df.info())\n",
    "print()\n"
   ]
  },
  {
   "cell_type": "code",
   "execution_count": 10,
   "id": "8ee0fd51",
   "metadata": {},
   "outputs": [
    {
     "name": "stdout",
     "output_type": "stream",
     "text": [
      "    trip_id  driver_id ride_type  trip_date  rider_count  total_distance  \\\n",
      "0       101          1  UberPool 2024-07-05            3            10.5   \n",
      "2       103          2  UberPool 2024-08-10            4            15.0   \n",
      "4       105          2  UberPool 2024-09-01            3            12.0   \n",
      "5       106          4  UberPool 2024-09-15            5            20.0   \n",
      "7       108          5  UberPool 2024-08-25            4            11.0   \n",
      "8       109          1  UberPool 2024-09-30            3             6.0   \n",
      "10      111          3  UberPool 2024-08-05            4            13.0   \n",
      "12      113          6  UberPool 2024-07-30            3            22.0   \n",
      "13      114          6  UberPool 2024-08-22            4            18.0   \n",
      "14      115          7  UberPool 2024-09-21            5            25.0   \n",
      "\n",
      "    total_earnings  earnings_per_mile  \n",
      "0             22.5           2.142857  \n",
      "2             35.0           2.333333  \n",
      "4             30.0           2.500000  \n",
      "5             50.0           2.500000  \n",
      "7             28.0           2.545455  \n",
      "8             16.0           2.666667  \n",
      "10            32.0           2.461538  \n",
      "12            45.0           2.045455  \n",
      "13            42.0           2.333333  \n",
      "14            60.0           2.400000  \n",
      "\n",
      "The average total earnings for UberPool rides with more than 2 riders between July 1st 2024 and September 30 2024 is: $ 2.39 per mile\n"
     ]
    }
   ],
   "source": [
    "# Now we group by ride_type (UberPool), rider_count(>2)\n",
    "q2_grouped_sep_jul_df =  q2_julsept_fct_df.query(\"(ride_type == 'UberPool') & (rider_count > 2)\")\n",
    "print(q2_grouped_sep_jul_df)\n",
    "\n",
    "# Now we calculate the average total_earnings\n",
    "q2_avg_earn_per_mile_sep_jul = q2_grouped_sep_jul_df['earnings_per_mile'].mean().round(2)\n",
    "\n",
    "# Answer to Question 1\n",
    "print(\"\\nThe average total earnings for UberPool rides with more than 2 riders between July 1st 2024 and September 30 2024 is: $\", q2_avg_earn_per_mile_sep_jul, \"per mile\")\n"
   ]
  },
  {
   "cell_type": "markdown",
   "id": "790365c8",
   "metadata": {},
   "source": [
    "Question 3\n",
    "\n",
    "Identify the combination of rider count and total distance that results in the highest average driver earnings per UberPool ride between July 1st and September 30th, 2024. This analysis directly recommends optimal trip combination strategies to maximize driver earnings."
   ]
  },
  {
   "cell_type": "code",
   "execution_count": 11,
   "id": "864691f9",
   "metadata": {},
   "outputs": [
    {
     "name": "stdout",
     "output_type": "stream",
     "text": [
      "    trip_id  driver_id ride_type  trip_date  rider_count  total_distance  \\\n",
      "0       101          1  UberPool 2024-07-05            3            10.5   \n",
      "1       102          1  UberPool 2024-07-15            2             8.0   \n",
      "2       103          2  UberPool 2024-08-10            4            15.0   \n",
      "3       104          3     UberX 2024-07-20            1             5.0   \n",
      "4       105          2  UberPool 2024-09-01            3            12.0   \n",
      "5       106          4  UberPool 2024-09-15            5            20.0   \n",
      "7       108          5  UberPool 2024-08-25            4            11.0   \n",
      "8       109          1  UberPool 2024-09-30            3             6.0   \n",
      "9       110          2  UberPool 2024-07-07            2             7.0   \n",
      "10      111          3  UberPool 2024-08-05            4            13.0   \n",
      "11      112          5     UberX 2024-09-10            1             4.0   \n",
      "12      113          6  UberPool 2024-07-30            3            22.0   \n",
      "13      114          6  UberPool 2024-08-22            4            18.0   \n",
      "14      115          7  UberPool 2024-09-21            5            25.0   \n",
      "\n",
      "    total_earnings  earnings_per_mile  \n",
      "0             22.5           2.142857  \n",
      "1             18.0           2.250000  \n",
      "2             35.0           2.333333  \n",
      "3             12.0           2.400000  \n",
      "4             30.0           2.500000  \n",
      "5             50.0           2.500000  \n",
      "7             28.0           2.545455  \n",
      "8             16.0           2.666667  \n",
      "9             15.0           2.142857  \n",
      "10            32.0           2.461538  \n",
      "11            10.0           2.500000  \n",
      "12            45.0           2.045455  \n",
      "13            42.0           2.333333  \n",
      "14            60.0           2.400000  \n"
     ]
    }
   ],
   "source": [
    "# Copy the dataframe to avoid overwriting\n",
    "q3_julsept_fct_df = q2_julsept_fct_df.copy()\n",
    "print(q3_julsept_fct_df)\n",
    "\n"
   ]
  },
  {
   "cell_type": "code",
   "execution_count": 12,
   "id": "428c5a92",
   "metadata": {},
   "outputs": [
    {
     "name": "stdout",
     "output_type": "stream",
     "text": [
      "    trip_id  driver_id ride_type  trip_date  rider_count  total_distance  \\\n",
      "0       101          1  UberPool 2024-07-05            3            10.5   \n",
      "1       102          1  UberPool 2024-07-15            2             8.0   \n",
      "2       103          2  UberPool 2024-08-10            4            15.0   \n",
      "4       105          2  UberPool 2024-09-01            3            12.0   \n",
      "5       106          4  UberPool 2024-09-15            5            20.0   \n",
      "7       108          5  UberPool 2024-08-25            4            11.0   \n",
      "8       109          1  UberPool 2024-09-30            3             6.0   \n",
      "9       110          2  UberPool 2024-07-07            2             7.0   \n",
      "10      111          3  UberPool 2024-08-05            4            13.0   \n",
      "12      113          6  UberPool 2024-07-30            3            22.0   \n",
      "13      114          6  UberPool 2024-08-22            4            18.0   \n",
      "14      115          7  UberPool 2024-09-21            5            25.0   \n",
      "\n",
      "    total_earnings  earnings_per_mile  \n",
      "0             22.5           2.142857  \n",
      "1             18.0           2.250000  \n",
      "2             35.0           2.333333  \n",
      "4             30.0           2.500000  \n",
      "5             50.0           2.500000  \n",
      "7             28.0           2.545455  \n",
      "8             16.0           2.666667  \n",
      "9             15.0           2.142857  \n",
      "10            32.0           2.461538  \n",
      "12            45.0           2.045455  \n",
      "13            42.0           2.333333  \n",
      "14            60.0           2.400000  \n"
     ]
    }
   ],
   "source": [
    "# Now we group by ride_type (UberPool), but not by rider_count\n",
    "q3_grouped_sep_jul_df =  q3_julsept_fct_df.query(\"(ride_type == 'UberPool')\")\n",
    "print(q3_grouped_sep_jul_df)\n"
   ]
  },
  {
   "cell_type": "code",
   "execution_count": 13,
   "id": "f7de5716",
   "metadata": {},
   "outputs": [
    {
     "name": "stdout",
     "output_type": "stream",
     "text": [
      "Table of combination of rider cound and total distance that results in the highest average driver earnings per UberPool ride between July 1st and September 30th, 2024\n",
      "    rider_count  total_distance  average_driver_earnings\n",
      "0             5            25.0                     60.0\n",
      "1             5            20.0                     50.0\n",
      "2             3            22.0                     45.0\n",
      "3             4            18.0                     42.0\n",
      "4             4            15.0                     35.0\n",
      "5             4            13.0                     32.0\n",
      "6             3            12.0                     30.0\n",
      "7             4            11.0                     28.0\n",
      "8             3            10.5                     22.5\n",
      "9             2             8.0                     18.0\n",
      "10            3             6.0                     16.0\n",
      "11            2             7.0                     15.0\n"
     ]
    }
   ],
   "source": [
    "# Now I need to narrow down the combinations on that data frame\n",
    "# I will do that by first creating an index \n",
    "q3_rdrcount_earnings_df = (q3_grouped_sep_jul_df.groupby(['rider_count', 'total_distance']).agg(average_driver_earnings = ('total_earnings', 'mean'))).sort_values('average_driver_earnings', ascending=False).reset_index()\n",
    "print(\"Table of combination of rider cound and total distance that results in the highest average driver earnings per UberPool ride between July 1st and September 30th, 2024\");\n",
    "print(q3_rdrcount_earnings_df)\n"
   ]
  },
  {
   "cell_type": "code",
   "execution_count": 14,
   "id": "a0e9cc64",
   "metadata": {},
   "outputs": [
    {
     "name": "stdout",
     "output_type": "stream",
     "text": [
      "The combination of rider count and total distance that results in the highest average driver earnings per UberPool ride between July 1st and September 30th, 2024 is:\n",
      "   rider_count  total_distance  average_driver_earnings\n",
      "0            5            25.0                     60.0\n"
     ]
    }
   ],
   "source": [
    "# Now that this is sorted, we need to call out the highest average driver earnings per UberPool ride between July 1st and September 30th, 2024\n",
    "# Answer to Question 3\n",
    "print(\"The combination of rider count and total distance that results in the highest average driver earnings per UberPool ride between July 1st and September 30th, 2024 is:\")\n",
    "print(q3_rdrcount_earnings_df.nlargest(1, 'average_driver_earnings'))\n",
    "\n"
   ]
  }
 ],
 "metadata": {
  "kernelspec": {
   "display_name": "Python (CondaVEnv)",
   "language": "python",
   "name": "condavenv"
  },
  "language_info": {
   "codemirror_mode": {
    "name": "ipython",
    "version": 3
   },
   "file_extension": ".py",
   "mimetype": "text/x-python",
   "name": "python",
   "nbconvert_exporter": "python",
   "pygments_lexer": "ipython3",
   "version": "3.12.4"
  }
 },
 "nbformat": 4,
 "nbformat_minor": 5
}

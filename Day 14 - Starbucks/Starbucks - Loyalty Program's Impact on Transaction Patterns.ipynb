{
 "cells": [
  {
   "cell_type": "markdown",
   "id": "cd4e65a2",
   "metadata": {},
   "source": [
    "Day 14 of Python Summer Party\n",
    "\n",
    "by Interview Master\n",
    "\n",
    "Starbucks\n",
    "\n",
    "Loyalty Program's Impact on Transaction Patterns\n",
    "\n",
    "You are a Business Analyst on the Starbucks Rewards team investigating customer transaction behavior. Your team wants to understand how loyalty program membership influences purchasing patterns. The goal is to compare transaction metrics between loyalty members and non-members."
   ]
  },
  {
   "cell_type": "markdown",
   "id": "9966806e",
   "metadata": {},
   "source": [
    "Question 1 of 3\n",
    "\n",
    "For the month of July 2024, how many transactions did loyalty program members and non-members make? Compare the transaction counts between these two groups."
   ]
  },
  {
   "cell_type": "code",
   "execution_count": null,
   "id": "306ee7d4",
   "metadata": {},
   "outputs": [],
   "source": []
  },
  {
   "cell_type": "markdown",
   "id": "0753829f",
   "metadata": {},
   "source": [
    "Question 2:\n",
    "What is the average transaction value for loyalty program members and non-members during July 2024? Use this to identify which group has a higher average transaction value."
   ]
  },
  {
   "cell_type": "markdown",
   "id": "f156bb74",
   "metadata": {},
   "source": [
    "Question 3:\n",
    "Determine the percentage difference in average transaction value between loyalty program members and non-members for July 2024."
   ]
  }
 ],
 "metadata": {
  "language_info": {
   "name": "python"
  }
 },
 "nbformat": 4,
 "nbformat_minor": 5
}

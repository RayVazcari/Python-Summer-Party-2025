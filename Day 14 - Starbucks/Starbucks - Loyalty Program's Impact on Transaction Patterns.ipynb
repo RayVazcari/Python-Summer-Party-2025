{
 "cells": [
  {
   "cell_type": "markdown",
   "id": "cd4e65a2",
   "metadata": {},
   "source": [
    "Day 14 of Python Summer Party\n",
    "\n",
    "by Interview Master\n",
    "\n",
    "Starbucks\n",
    "\n",
    "Loyalty Program's Impact on Transaction Patterns\n",
    "\n",
    "You are a Business Analyst on the Starbucks Rewards team investigating customer transaction behavior. Your team wants to understand how loyalty program membership influences purchasing patterns. The goal is to compare transaction metrics between loyalty members and non-members."
   ]
  },
  {
   "cell_type": "markdown",
   "id": "9966806e",
   "metadata": {},
   "source": [
    "Question 1 of 3\n",
    "\n",
    "For the month of July 2024, how many transactions did loyalty program members and non-members make? Compare the transaction counts between these two groups."
   ]
  },
  {
   "cell_type": "code",
   "execution_count": null,
   "id": "306ee7d4",
   "metadata": {},
   "outputs": [],
   "source": []
  }
 ],
 "metadata": {
  "language_info": {
   "name": "python"
  }
 },
 "nbformat": 4,
 "nbformat_minor": 5
}

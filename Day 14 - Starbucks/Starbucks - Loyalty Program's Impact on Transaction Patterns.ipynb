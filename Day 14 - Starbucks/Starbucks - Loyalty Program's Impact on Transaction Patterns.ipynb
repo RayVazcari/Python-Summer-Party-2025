{
 "cells": [
  {
   "cell_type": "markdown",
   "id": "cd4e65a2",
   "metadata": {},
   "source": [
    "Day 14 of Python Summer Party\n",
    "\n",
    "by Interview Master\n",
    "\n",
    "Starbucks\n",
    "\n",
    "Loyalty Program's Impact on Transaction Patterns\n",
    "\n",
    "You are a Business Analyst on the Starbucks Rewards team investigating customer transaction behavior. Your team wants to understand how loyalty program membership influences purchasing patterns. The goal is to compare transaction metrics between loyalty members and non-members."
   ]
  },
  {
   "cell_type": "code",
   "execution_count": 1,
   "id": "82ee093e",
   "metadata": {},
   "outputs": [
    {
     "name": "stdout",
     "output_type": "stream",
     "text": [
      "<class 'pandas.core.frame.DataFrame'>\n",
      "RangeIndex: 16 entries, 0 to 15\n",
      "Data columns (total 4 columns):\n",
      " #   Column             Non-Null Count  Dtype  \n",
      "---  ------             --------------  -----  \n",
      " 0   customer_id        16 non-null     int64  \n",
      " 1   transaction_id     16 non-null     int64  \n",
      " 2   transaction_date   16 non-null     object \n",
      " 3   transaction_value  16 non-null     float64\n",
      "dtypes: float64(1), int64(2), object(1)\n",
      "memory usage: 644.0+ bytes\n",
      "None\n",
      "\n",
      "   customer_id  transaction_id transaction_date  transaction_value\n",
      "0            1             101       2024-07-05               5.50\n",
      "1            1             102       2024-07-15               7.25\n",
      "2            2             103       2024-07-10               4.00\n",
      "3            3             104       2024-07-20               8.75\n",
      "4            4             105       2024-07-03               6.50\n",
      "\n",
      "<class 'pandas.core.frame.DataFrame'>\n",
      "RangeIndex: 12 entries, 0 to 11\n",
      "Data columns (total 2 columns):\n",
      " #   Column             Non-Null Count  Dtype\n",
      "---  ------             --------------  -----\n",
      " 0   customer_id        12 non-null     int64\n",
      " 1   is_loyalty_member  12 non-null     bool \n",
      "dtypes: bool(1), int64(1)\n",
      "memory usage: 240.0 bytes\n",
      "None\n",
      "\n",
      "   customer_id  is_loyalty_member\n",
      "0            1               True\n",
      "1            2              False\n",
      "2            3               True\n",
      "3            4              False\n",
      "4            5               True\n",
      "\n",
      "======================================================================================================================================================\n"
     ]
    }
   ],
   "source": [
    "import pandas as pd\n",
    "import numpy as np\n",
    "\n",
    "# Load the datasets and display them\n",
    "fct_transactions = pd.read_csv('fct_transactions.csv')\n",
    "dim_customers = pd.read_csv('dim_customers.csv')\n",
    "\n",
    "fct_transactions_df = fct_transactions.copy()\n",
    "dim_customers_df = dim_customers.copy()\n",
    "\n",
    "print(fct_transactions_df.info())\n",
    "print()\n",
    "print(fct_transactions_df.head())\n",
    "print()\n",
    "print(dim_customers_df.info())\n",
    "print()\n",
    "print(dim_customers_df.head())\n",
    "print()\n",
    "print(\"=\" * 150)\n"
   ]
  },
  {
   "cell_type": "markdown",
   "id": "9966806e",
   "metadata": {},
   "source": [
    "Question 1 of 3\n",
    "\n",
    "For the month of July 2024, how many transactions did loyalty program members and non-members make? Compare the transaction counts between these two groups."
   ]
  },
  {
   "cell_type": "code",
   "execution_count": 2,
   "id": "306ee7d4",
   "metadata": {},
   "outputs": [
    {
     "name": "stdout",
     "output_type": "stream",
     "text": [
      "<class 'pandas.core.frame.DataFrame'>\n",
      "RangeIndex: 16 entries, 0 to 15\n",
      "Data columns (total 5 columns):\n",
      " #   Column             Non-Null Count  Dtype  \n",
      "---  ------             --------------  -----  \n",
      " 0   customer_id        16 non-null     int64  \n",
      " 1   transaction_id     16 non-null     int64  \n",
      " 2   transaction_date   16 non-null     object \n",
      " 3   transaction_value  16 non-null     float64\n",
      " 4   is_loyalty_member  16 non-null     bool   \n",
      "dtypes: bool(1), float64(1), int64(2), object(1)\n",
      "memory usage: 660.0+ bytes\n",
      "None\n",
      "\n",
      "    customer_id  transaction_id transaction_date  transaction_value  \\\n",
      "0             1             101       2024-07-05               5.50   \n",
      "1             1             102       2024-07-15               7.25   \n",
      "2             1             116       2024-07-31               6.25   \n",
      "3             2             103       2024-07-10               4.00   \n",
      "4             3             104       2024-07-20               8.75   \n",
      "5             3             114       2024-07-30               7.50   \n",
      "6             4             105       2024-07-03               6.50   \n",
      "7             5             106       2024-07-22               9.00   \n",
      "8             5             115       2024-07-29              10.00   \n",
      "9             6             107       2024-07-11              10.50   \n",
      "10            7             108       2024-07-18               4.25   \n",
      "11            8             109       2024-07-25              12.00   \n",
      "12            9             110       2024-07-07               3.75   \n",
      "13           10             111       2024-07-12               5.00   \n",
      "14           11             112       2024-07-27              11.25   \n",
      "15           12             113       2024-07-08               6.00   \n",
      "\n",
      "    is_loyalty_member  \n",
      "0                True  \n",
      "1                True  \n",
      "2                True  \n",
      "3               False  \n",
      "4                True  \n",
      "5                True  \n",
      "6               False  \n",
      "7                True  \n",
      "8                True  \n",
      "9                True  \n",
      "10              False  \n",
      "11               True  \n",
      "12              False  \n",
      "13              False  \n",
      "14               True  \n",
      "15              False  \n",
      "\n",
      "======================================================================================================================================================\n"
     ]
    }
   ],
   "source": [
    "# We are going to start by merging both dataframes into one for further analysis\n",
    "merged_fct_df =pd.merge(fct_transactions_df, dim_customers_df, how='right', on='customer_id')\n",
    "print(merged_fct_df.info())\n",
    "print()\n",
    "print(merged_fct_df)\n",
    "print()\n",
    "print(\"=\" * 150)\n"
   ]
  },
  {
   "cell_type": "code",
   "execution_count": 3,
   "id": "1fc493c7",
   "metadata": {},
   "outputs": [
    {
     "name": "stdout",
     "output_type": "stream",
     "text": [
      "<class 'pandas.core.frame.DataFrame'>\n",
      "RangeIndex: 16 entries, 0 to 15\n",
      "Data columns (total 5 columns):\n",
      " #   Column             Non-Null Count  Dtype         \n",
      "---  ------             --------------  -----         \n",
      " 0   customer_id        16 non-null     int64         \n",
      " 1   transaction_id     16 non-null     int64         \n",
      " 2   transaction_date   16 non-null     datetime64[ns]\n",
      " 3   transaction_value  16 non-null     float64       \n",
      " 4   is_loyalty_member  16 non-null     bool          \n",
      "dtypes: bool(1), datetime64[ns](1), float64(1), int64(2)\n",
      "memory usage: 660.0 bytes\n",
      "None\n"
     ]
    }
   ],
   "source": [
    "# Now that we have merged the dataframes, we can start to look at the transaction patterns of our customers\n",
    "# First lets transform the 'transaction_date' column to datetime format\n",
    "merged_fct_df['transaction_date'] = pd.to_datetime(merged_fct_df['transaction_date'], format='%Y-%m-%d', errors='coerce')\n",
    "print(merged_fct_df.info())\n"
   ]
  },
  {
   "cell_type": "code",
   "execution_count": 4,
   "id": "e7bc7933",
   "metadata": {},
   "outputs": [
    {
     "name": "stdout",
     "output_type": "stream",
     "text": [
      "<class 'pandas.core.frame.DataFrame'>\n",
      "RangeIndex: 16 entries, 0 to 15\n",
      "Data columns (total 5 columns):\n",
      " #   Column             Non-Null Count  Dtype         \n",
      "---  ------             --------------  -----         \n",
      " 0   customer_id        16 non-null     int64         \n",
      " 1   transaction_id     16 non-null     int64         \n",
      " 2   transaction_date   16 non-null     datetime64[ns]\n",
      " 3   transaction_value  16 non-null     float64       \n",
      " 4   is_loyalty_member  16 non-null     bool          \n",
      "dtypes: bool(1), datetime64[ns](1), float64(1), int64(2)\n",
      "memory usage: 660.0 bytes\n",
      "None\n",
      "\n",
      "    customer_id  transaction_id transaction_date  transaction_value  \\\n",
      "0             1             101       2024-07-05               5.50   \n",
      "1             1             102       2024-07-15               7.25   \n",
      "2             1             116       2024-07-31               6.25   \n",
      "3             2             103       2024-07-10               4.00   \n",
      "4             3             104       2024-07-20               8.75   \n",
      "5             3             114       2024-07-30               7.50   \n",
      "6             4             105       2024-07-03               6.50   \n",
      "7             5             106       2024-07-22               9.00   \n",
      "8             5             115       2024-07-29              10.00   \n",
      "9             6             107       2024-07-11              10.50   \n",
      "10            7             108       2024-07-18               4.25   \n",
      "11            8             109       2024-07-25              12.00   \n",
      "12            9             110       2024-07-07               3.75   \n",
      "13           10             111       2024-07-12               5.00   \n",
      "14           11             112       2024-07-27              11.25   \n",
      "15           12             113       2024-07-08               6.00   \n",
      "\n",
      "    is_loyalty_member  \n",
      "0                True  \n",
      "1                True  \n",
      "2                True  \n",
      "3               False  \n",
      "4                True  \n",
      "5                True  \n",
      "6               False  \n",
      "7                True  \n",
      "8                True  \n",
      "9                True  \n",
      "10              False  \n",
      "11               True  \n",
      "12              False  \n",
      "13              False  \n",
      "14               True  \n",
      "15              False  \n",
      "\n",
      "======================================================================================================================================================\n"
     ]
    }
   ],
   "source": [
    "# Now lets filter the dataframe to include transactions for July 2024\n",
    "jul_fct_df = merged_fct_df[(merged_fct_df['transaction_date'] >= '2024-07-01') & (merged_fct_df['transaction_date'] < '2024-08-01')]\n",
    "print(jul_fct_df.info())\n",
    "print()\n",
    "print(jul_fct_df)\n",
    "print()\n",
    "print(\"=\" * 150)\n"
   ]
  },
  {
   "cell_type": "code",
   "execution_count": 5,
   "id": "030b6f56",
   "metadata": {},
   "outputs": [
    {
     "name": "stdout",
     "output_type": "stream",
     "text": [
      "Number of transactions made by members with and without loyalty membership during July 2024:\n",
      "is_loyalty_member\n",
      "True     10\n",
      "False     6\n",
      "Name: count, dtype: int64\n"
     ]
    }
   ],
   "source": [
    "# Now we will count how many transaction did members with and without loyalty membership made in this month\n",
    "print(\"Number of transactions made by members with and without loyalty membership during July 2024:\")\n",
    "print(jul_fct_df['is_loyalty_member'].value_counts())\n"
   ]
  },
  {
   "cell_type": "markdown",
   "id": "0753829f",
   "metadata": {},
   "source": [
    "Question 2:\n",
    "\n",
    "What is the average transaction value for loyalty program members and non-members during July 2024? Use this to identify which group has a higher average transaction value."
   ]
  },
  {
   "cell_type": "code",
   "execution_count": 6,
   "id": "069a3886",
   "metadata": {},
   "outputs": [
    {
     "name": "stdout",
     "output_type": "stream",
     "text": [
      "Average transaction value for members with and without loyalty membership during July 2024:\n",
      "   is_loyalty_member  average_transaction_value\n",
      "0              False                       4.92\n",
      "1               True                       8.80\n"
     ]
    }
   ],
   "source": [
    "# Since the data is already filtrered for July 2024, we can groupby loyalty membership and calculate the average transaction value\n",
    "jul_avg_txn_value = jul_fct_df.groupby('is_loyalty_member')['transaction_value'].mean().reset_index(name='average_transaction_value').round(2)\n",
    "print(\"Average transaction value for members with and without loyalty membership during July 2024:\")\n",
    "print(jul_avg_txn_value)\n"
   ]
  },
  {
   "cell_type": "markdown",
   "id": "f156bb74",
   "metadata": {},
   "source": [
    "Question 3:\n",
    "\n",
    "Determine the percentage difference in average transaction value between loyalty program members and non-members for July 2024."
   ]
  },
  {
   "cell_type": "code",
   "execution_count": 9,
   "id": "cd4f7d86",
   "metadata": {},
   "outputs": [
    {
     "name": "stdout",
     "output_type": "stream",
     "text": [
      "Percentage difference in average transaction value between members and non-members during July 2024:\n",
      "78.86 %\n"
     ]
    }
   ],
   "source": [
    "# We can directly calculate the percentage difference in average transaction value between members and non-members by subtracting the average transaction value of non-members from the average transaction value of members and \n",
    "percentage_diff = (jul_avg_txn_value[jul_avg_txn_value['is_loyalty_member'] == True]['average_transaction_value'].values[0] - jul_avg_txn_value[jul_avg_txn_value['is_loyalty_member'] == False]['average_transaction_value'].values[0]) / jul_avg_txn_value[jul_avg_txn_value['is_loyalty_member'] == False]['average_transaction_value'].values[0] * 100\n",
    "print(\"Percentage difference in average transaction value between members and non-members during July 2024:\")\n",
    "print(percentage_diff.round(2), \"%\")\n",
    "\n"
   ]
  },
  {
   "cell_type": "markdown",
   "id": "69f359c3",
   "metadata": {},
   "source": []
  }
 ],
 "metadata": {
  "kernelspec": {
   "display_name": "Python (CondaVEnv)",
   "language": "python",
   "name": "condavenv"
  },
  "language_info": {
   "codemirror_mode": {
    "name": "ipython",
    "version": 3
   },
   "file_extension": ".py",
   "mimetype": "text/x-python",
   "name": "python",
   "nbconvert_exporter": "python",
   "pygments_lexer": "ipython3",
   "version": "3.12.4"
  }
 },
 "nbformat": 4,
 "nbformat_minor": 5
}

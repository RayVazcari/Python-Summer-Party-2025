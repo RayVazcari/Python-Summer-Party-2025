{
  "cells": [
    {
      "cell_type": "markdown",
      "metadata": {},
      "source": [
        "# Day 3: Disney Parks Guest Spending Behavior"
      ]
    },
    {
      "cell_type": "markdown",
      "metadata": {},
      "source": [
        "You are a data analyst working with the Disney Parks revenue team to understand nuanced guest spending patterns across different park experiences. The team wants to develop a comprehensive view of visitor purchasing behaviors. Your goal is to uncover meaningful insights that can drive personalized marketing strategies."
      ]
    },
    {
      "cell_type": "code",
      "metadata": {},
      "execution_count": null,
      "outputs": [],
      "source": "import pandas as pd\nimport numpy as np\n\nfct_guest_spending_data = [\n  {\n    \"guest_id\": 1,\n    \"visit_date\": \"2024-07-05\",\n    \"amount_spent\": 50,\n    \"park_experience_type\": \"Attraction\"\n  },\n  {\n    \"guest_id\": 2,\n    \"visit_date\": \"2024-07-06\",\n    \"amount_spent\": 30,\n    \"park_experience_type\": \"Dining\"\n  },\n  {\n    \"guest_id\": 3,\n    \"visit_date\": \"2024-07-10\",\n    \"amount_spent\": 20.5,\n    \"park_experience_type\": \"Retail\"\n  },\n  {\n    \"guest_id\": 4,\n    \"visit_date\": \"2024-07-12\",\n    \"amount_spent\": 40,\n    \"park_experience_type\": \"Entertainment\"\n  },\n  {\n    \"guest_id\": 1,\n    \"visit_date\": \"2024-07-15\",\n    \"amount_spent\": 35,\n    \"park_experience_type\": \"Dining\"\n  },\n  {\n    \"guest_id\": 5,\n    \"visit_date\": \"2024-07-20\",\n    \"amount_spent\": 60,\n    \"park_experience_type\": \"Attraction\"\n  },\n  {\n    \"guest_id\": 6,\n    \"visit_date\": \"2024-07-25\",\n    \"amount_spent\": 25,\n    \"park_experience_type\": \"Retail\"\n  },\n  {\n    \"guest_id\": 1,\n    \"visit_date\": \"2024-08-03\",\n    \"amount_spent\": 55,\n    \"park_experience_type\": \"Attraction\"\n  },\n  {\n    \"guest_id\": 1,\n    \"visit_date\": \"2024-08-15\",\n    \"amount_spent\": 45,\n    \"park_experience_type\": \"Dining\"\n  },\n  {\n    \"guest_id\": 2,\n    \"visit_date\": \"2024-08-05\",\n    \"amount_spent\": 22,\n    \"park_experience_type\": \"Retail\"\n  },\n  {\n    \"guest_id\": 2,\n    \"visit_date\": \"2024-08-20\",\n    \"amount_spent\": 38,\n    \"park_experience_type\": \"Entertainment\"\n  },\n  {\n    \"guest_id\": 7,\n    \"visit_date\": \"2024-08-10\",\n    \"amount_spent\": 15,\n    \"park_experience_type\": \"Character Meet\"\n  },\n  {\n    \"guest_id\": 3,\n    \"visit_date\": \"2024-08-25\",\n    \"amount_spent\": 28,\n    \"park_experience_type\": \"Retail\"\n  },\n  {\n    \"guest_id\": 3,\n    \"visit_date\": \"2024-08-27\",\n    \"amount_spent\": 32,\n    \"park_experience_type\": \"Dining\"\n  },\n  {\n    \"guest_id\": 1,\n    \"visit_date\": \"2024-09-02\",\n    \"amount_spent\": 65,\n    \"park_experience_type\": \"Attraction\"\n  },\n  {\n    \"guest_id\": 8,\n    \"visit_date\": \"2024-09-05\",\n    \"amount_spent\": 50,\n    \"park_experience_type\": \"Retail\"\n  },\n  {\n    \"guest_id\": 9,\n    \"visit_date\": \"2024-09-15\",\n    \"amount_spent\": 40,\n    \"park_experience_type\": \"Dining\"\n  },\n  {\n    \"guest_id\": 10,\n    \"visit_date\": \"2024-09-20\",\n    \"amount_spent\": 70,\n    \"park_experience_type\": \"Entertainment\"\n  },\n  {\n    \"guest_id\": 1,\n    \"visit_date\": \"2024-09-25\",\n    \"amount_spent\": 35,\n    \"park_experience_type\": \"Dining\"\n  },\n  {\n    \"guest_id\": 8,\n    \"visit_date\": \"2024-09-28\",\n    \"amount_spent\": 10,\n    \"park_experience_type\": \"Character Meet\"\n  }\n]\nfct_guest_spending = pd.DataFrame(fct_guest_spending_data)\n"
    },
    {
      "cell_type": "markdown",
      "metadata": {},
      "source": [
        "## Question 1\n\nWhat is the average spending per guest per visit for each park experience type during July 2024? Ensure that park experience types with no recorded transactions are shown with an average spending of 0.0. This analysis helps establish baseline spending differences essential for later segmentation."
      ]
    },
    {
      "cell_type": "code",
      "metadata": {},
      "execution_count": null,
      "outputs": [],
      "source": "# Note: pandas and numpy are already imported as pd and np\n# The following tables are loaded as pandas DataFrames with the same names: fct_guest_spending\n# Please print your final result or dataframe\n\n# Copy data into new Dataframe to avoid changes to original DataFrame\nSpending_df = fct_guest_spending.copy()\n\n# Exploring Data\nprint(\"Show the data\")\nprint(Spending_df)\nprint(\"-\" * 50)\nprint()\n\nprint(\"Data type and information of columns\")\nprint(Spending_df.info())\nprint(\"-\" * 50)\nprint()\n\n##############################################\nprint(\"July 2024 Data\")\nJuly_df = Spending_df.query(\"visit_date >= '2024-07-01' and visit_date < '2024-08-01'\")\nprint(July_df)\nprint(\"-\" * 50)\nprint()\n\n\ngrouped_spending = July_df.groupby([\"guest_id\", \"visit_date\", \"park_experience_type\"])[\n    \"amount_spent\"\n].sum()\nprint(grouped_spending)\nprint(\"-\" * 50)\nprint()\n\nguest_visits = July_df[[\"guest_id\", \"visit_date\"]].drop_duplicates()\nprint(guest_visits)\nprint(\"-\" * 50)\nprint()\n\nexperience_types = Spending_df[\"park_experience_type\"].dropna().unique()\nprint(experience_types)\nprint(\"-\" * 50)\nprint()\n\nidx = pd.MultiIndex.from_product(\n    [guest_visits[\"guest_id\"], guest_visits[\"visit_date\"], experience_types],\n    names=[\"guest_id\", \"visit_date\", \"park_experience_type\"],\n)\nprint(idx)\nprint(\"-\" * 50)\nprint()\n\nfull_spending = grouped_spending.reindex(idx, fill_value=0.0).reset_index()\nprint(full_spending)\nprint(\"-\" * 50)\nprint()\n\nfinal_result = (\n    full_spending.groupby(\"park_experience_type\")[\"amount_spent\"]\n    .mean()\n    .reset_index(name=\"avg_spent_per_guest_per_visit\")\n)\nprint(final_result)\nprint(\"-\" * 50)\nprint()"
    },
    {
      "cell_type": "markdown",
      "metadata": {},
      "source": [
        "## Question 2\n\nFor guests who visited our parks more than once in August 2024, what is the difference in spending between their first and their last visit? This investigation, using sequential analysis, will reveal any shifts in guest spending behavior over multiple visits."
      ]
    },
    {
      "cell_type": "code",
      "metadata": {},
      "execution_count": null,
      "outputs": [],
      "source": "# Note: pandas and numpy are already imported as pd and np\n# The following tables are loaded as pandas DataFrames with the same names: fct_guest_spending\n# Please print your final result or dataframe\n\n# Copy data into new Dataframe to avoid changes to original DataFrame\nSpending_df = fct_guest_spending.copy()\n\n# Exploring Data\nprint(\"Show the data\")\nprint(Spending_df)\nprint(\"-\" * 50)\nprint()\n\nprint(\"Data type and information of columns\")\nprint(Spending_df.info())\nprint(\"-\" * 50)\nprint()\n\n##############################################\nprint(\"August 2024 Data\")\nJuly_df = Spending_df.query(\"visit_date >= '2024-08-01' and visit_date < '2024-09-01'\")\nprint(July_df)\nprint(\"-\" * 50)\nprint()\n\nprint(\"Filtering for repeating guests\")\nvisit_counts = July_df[\"guest_id\"].value_counts()\nmulti_visitors_df = July_df[July_df[\"guest_id\"].isin(visit_counts[visit_counts > 1].index)]\nprint(multi_visitors_df)\nprint(\"-\" * 50)\nprint()\n\nprint(\"Sorting values in Order of Visit\")\nmulti_visitors_df = multi_visitors_df.sort_values(['guest_id', 'visit_date'])\nprint(multi_visitors_df)\nprint(\"-\" * 50)\nprint()\n\nprint(\"Spending Difference\")\nspending_diff_df = (multi_visitors_df.groupby('guest_id')['amount_spent'].agg(first='first', last='last')\n    .assign(spending_difference=lambda df: df['last'] - df['first'])\n    .reset_index())\nprint(spending_diff_df)\nprint(\"-\" * 50)\nprint()"
    },
    {
      "cell_type": "markdown",
      "metadata": {},
      "source": [
        "## Question 3\n\nIn September 2024, how can guests be categorized into distinct spending segments such as Low, Medium, and High based on their total spending? Use the following thresholds for categorization: \n-Low: Includes values from $0 up to, but not including, $50.\n-Medium: Includes values from $50 up to, but not including, $100.\n-High: Includes values from $100 and above. \nExclude guests who did not make any purchases in the period."
      ]
    },
    {
      "cell_type": "code",
      "metadata": {},
      "execution_count": null,
      "outputs": [],
      "source": "# Note: pandas and numpy are already imported as pd and np\n# The following tables are loaded as pandas DataFrames with the same names: fct_guest_spending\n# Please print your final result or dataframe\n\n# Copy data into new Dataframe to avoid changes to original DataFrame\nSpending_df = fct_guest_spending.copy()\n\n# Exploring Data\nprint(\"Show the data\")\nprint(Spending_df)\nprint(\"-\" * 50)\nprint()\n\nprint(\"Data type and information of columns\")\nprint(Spending_df.info())\nprint(\"-\" * 50)\nprint()\n\n##############################################\nprint(\"September 2024 Data\")\nSept_df = Spending_df.query(\"visit_date >= '2024-09-01' and visit_date < '2024-10-01'\")\nprint(Sept_df)\nprint(\"-\" * 50)\nprint()\n\nprint(\"Total spending per guest\")\nGrouping_df = Sept_df.groupby([\"guest_id\"])[\"amount_spent\"].sum()\nprint(Grouping_df)\nprint()\n\ndef segmentation(amount_spent):\n    if 0 <= amount_spent < 50:\n        return \"Low\"\n    elif 50 <= amount_spent < 100:\n        return \"Medium\"\n    elif amount_spent >= 100:\n        return \"High\"\n    else:\n        return None  # Covers 0 or negative values explicitly\n\n# Exclude guests with zero or negative spending\nresult_df = result_df[result_df[\"total_spent\"] > 0].copy()\n\nresult_df = Grouping_df.to_frame(name=\"total_spent\").reset_index()\nresult_df[\"spending_segment\"] = result_df[\"total_spent\"].apply(segmentation)\nprint(result_df)\nprint()"
    },
    {
      "cell_type": "markdown",
      "metadata": {},
      "source": [
        "Made with ❤️ by [Interview Master](https://www.interviewmaster.ai)"
      ]
    }
  ],
  "metadata": {
    "kernelspec": {
      "name": "python3",
      "language": "python",
      "display_name": "Python 3"
    },
    "language_info": {
      "name": "python",
      "version": "3",
      "mimetype": "text/x-python",
      "file_extension": ".py"
    }
  },
  "nbformat": 4,
  "nbformat_minor": 5
}
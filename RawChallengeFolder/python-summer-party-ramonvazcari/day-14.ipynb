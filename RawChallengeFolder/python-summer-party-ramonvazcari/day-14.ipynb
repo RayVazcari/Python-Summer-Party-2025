{
  "cells": [
    {
      "cell_type": "markdown",
      "metadata": {},
      "source": [
        "# Day 14: Loyalty Program's Impact on Transaction Patterns"
      ]
    },
    {
      "cell_type": "markdown",
      "metadata": {},
      "source": [
        "You are a Business Analyst on the Starbucks Rewards team investigating customer transaction behavior. Your team wants to understand how loyalty program membership influences purchasing patterns. The goal is to compare transaction metrics between loyalty members and non-members."
      ]
    },
    {
      "cell_type": "code",
      "metadata": {},
      "execution_count": null,
      "outputs": [],
      "source": "import pandas as pd\nimport numpy as np\n\ndim_customers_data = [\n  {\n    \"customer_id\": 1,\n    \"is_loyalty_member\": 1\n  },\n  {\n    \"customer_id\": 2,\n    \"is_loyalty_member\": 0\n  },\n  {\n    \"customer_id\": 3,\n    \"is_loyalty_member\": 1\n  },\n  {\n    \"customer_id\": 4,\n    \"is_loyalty_member\": 0\n  },\n  {\n    \"customer_id\": 5,\n    \"is_loyalty_member\": 1\n  },\n  {\n    \"customer_id\": 6,\n    \"is_loyalty_member\": 1\n  },\n  {\n    \"customer_id\": 7,\n    \"is_loyalty_member\": 0\n  },\n  {\n    \"customer_id\": 8,\n    \"is_loyalty_member\": 1\n  },\n  {\n    \"customer_id\": 9,\n    \"is_loyalty_member\": 0\n  },\n  {\n    \"customer_id\": 10,\n    \"is_loyalty_member\": 0\n  },\n  {\n    \"customer_id\": 11,\n    \"is_loyalty_member\": 1\n  },\n  {\n    \"customer_id\": 12,\n    \"is_loyalty_member\": 0\n  }\n]\ndim_customers = pd.DataFrame(dim_customers_data)\n\nfct_transactions_data = [\n  {\n    \"customer_id\": 1,\n    \"transaction_id\": 101,\n    \"transaction_date\": \"2024-07-05\",\n    \"transaction_value\": 5.5\n  },\n  {\n    \"customer_id\": 1,\n    \"transaction_id\": 102,\n    \"transaction_date\": \"2024-07-15\",\n    \"transaction_value\": 7.25\n  },\n  {\n    \"customer_id\": 2,\n    \"transaction_id\": 103,\n    \"transaction_date\": \"2024-07-10\",\n    \"transaction_value\": 4\n  },\n  {\n    \"customer_id\": 3,\n    \"transaction_id\": 104,\n    \"transaction_date\": \"2024-07-20\",\n    \"transaction_value\": 8.75\n  },\n  {\n    \"customer_id\": 4,\n    \"transaction_id\": 105,\n    \"transaction_date\": \"2024-07-03\",\n    \"transaction_value\": 6.5\n  },\n  {\n    \"customer_id\": 5,\n    \"transaction_id\": 106,\n    \"transaction_date\": \"2024-07-22\",\n    \"transaction_value\": 9\n  },\n  {\n    \"customer_id\": 6,\n    \"transaction_id\": 107,\n    \"transaction_date\": \"2024-07-11\",\n    \"transaction_value\": 10.5\n  },\n  {\n    \"customer_id\": 7,\n    \"transaction_id\": 108,\n    \"transaction_date\": \"2024-07-18\",\n    \"transaction_value\": 4.25\n  },\n  {\n    \"customer_id\": 8,\n    \"transaction_id\": 109,\n    \"transaction_date\": \"2024-07-25\",\n    \"transaction_value\": 12\n  },\n  {\n    \"customer_id\": 9,\n    \"transaction_id\": 110,\n    \"transaction_date\": \"2024-07-07\",\n    \"transaction_value\": 3.75\n  },\n  {\n    \"customer_id\": 10,\n    \"transaction_id\": 111,\n    \"transaction_date\": \"2024-07-12\",\n    \"transaction_value\": 5\n  },\n  {\n    \"customer_id\": 11,\n    \"transaction_id\": 112,\n    \"transaction_date\": \"2024-07-27\",\n    \"transaction_value\": 11.25\n  },\n  {\n    \"customer_id\": 12,\n    \"transaction_id\": 113,\n    \"transaction_date\": \"2024-07-08\",\n    \"transaction_value\": 6\n  },\n  {\n    \"customer_id\": 3,\n    \"transaction_id\": 114,\n    \"transaction_date\": \"2024-07-30\",\n    \"transaction_value\": 7.5\n  },\n  {\n    \"customer_id\": 5,\n    \"transaction_id\": 115,\n    \"transaction_date\": \"2024-07-29\",\n    \"transaction_value\": 10\n  },\n  {\n    \"customer_id\": 1,\n    \"transaction_id\": 116,\n    \"transaction_date\": \"2024-07-31\",\n    \"transaction_value\": 6.25\n  }\n]\nfct_transactions = pd.DataFrame(fct_transactions_data)\n"
    },
    {
      "cell_type": "markdown",
      "metadata": {},
      "source": [
        "## Question 1\n\nFor the month of July 2024, how many transactions did loyalty program members and non-members make? Compare the transaction counts between these two groups."
      ]
    },
    {
      "cell_type": "code",
      "metadata": {},
      "execution_count": null,
      "outputs": [],
      "source": "# Note: pandas and numpy are already imported as pd and np\n# The following tables are loaded as pandas DataFrames with the same names: fct_transactions, dim_customers\n# Please print your final result or dataframe\n\n# Load the datasets and display them\nfct_transactions_df = fct_transactions.copy()\ndim_customers_df = dim_customers.copy()\n\nprint(fct_transactions_df.info())\nprint()\nprint(fct_transactions_df.head())\nprint()\nprint(dim_customers_df.info())\nprint()\nprint(dim_customers_df.head())\nprint()\nprint(\"=\" * 150)\n\n################################################################################\nprint()\nprint(\"=\" * 150)\nprint(\"=\" * 150)\nprint()\n################################################################################\n# Question 1 of 3\n# For the month of July 2024, how many transactions did loyalty program members and non-members make? Compare the transaction counts between these two groups.\n\n# We are going to start by merging both dataframes into one for further analysis\nmerged_fct_df =pd.merge(fct_transactions_df, dim_customers_df, how='right', on='customer_id')\nprint(merged_fct_df.info())\nprint()\nprint(merged_fct_df)\nprint()\nprint(\"=\" * 150)\n\n# Now that we have merged the dataframes, we can start to look at the transaction patterns of our customers\n# First lets transform the 'transaction_date' column to datetime format\nmerged_fct_df['transaction_date'] = pd.to_datetime(merged_fct_df['transaction_date'], format='%Y-%m-%d', errors='coerce')\nprint(merged_fct_df.info())\nprint()\nprint(\"=\" * 150)\n\n# Now lets filter the dataframe to include transactions for July 2024\njul_fct_df = merged_fct_df[(merged_fct_df['transaction_date'] >= '2024-07-01') & (merged_fct_df['transaction_date'] < '2024-08-01')]\nprint(jul_fct_df.info())\nprint()\nprint(jul_fct_df)\nprint()\nprint(\"=\" * 150)\n\n# Now we will count how many transaction did members with and without loyalty membership made in this month\nprint(\"Number of transactions made by members with and without loyalty membership:\")\nprint(jul_fct_df['is_loyalty_member'].value_counts())"
    },
    {
      "cell_type": "markdown",
      "metadata": {},
      "source": [
        "## Question 2\n\nWhat is the average transaction value for loyalty program members and non-members during July 2024? Use this to identify which group has a higher average transaction value."
      ]
    },
    {
      "cell_type": "code",
      "metadata": {},
      "execution_count": null,
      "outputs": [],
      "source": "# Note: pandas and numpy are already imported as pd and np\n# The following tables are loaded as pandas DataFrames with the same names: fct_transactions, dim_customers\n# Please print your final result or dataframe\n\n# Load the datasets and display them\nfct_transactions_df = fct_transactions.copy()\ndim_customers_df = dim_customers.copy()\n\nprint(fct_transactions_df.info())\nprint()\nprint(fct_transactions_df.head())\nprint()\nprint(dim_customers_df.info())\nprint()\nprint(dim_customers_df.head())\nprint()\nprint(\"=\" * 150)\n\n################################################################################\nprint()\nprint(\"=\" * 150)\nprint(\"=\" * 150)\nprint()\n################################################################################\n# Question 1 of 3\n# For the month of July 2024, how many transactions did loyalty program members and non-members make? Compare the transaction counts between these two groups.\n\n# We are going to start by merging both dataframes into one for further analysis\nmerged_fct_df =pd.merge(fct_transactions_df, dim_customers_df, how='right', on='customer_id')\nprint(merged_fct_df.info())\nprint()\nprint(merged_fct_df)\nprint()\nprint(\"=\" * 150)\n\n# Now that we have merged the dataframes, we can start to look at the transaction patterns of our customers\n# First lets transform the 'transaction_date' column to datetime format\nmerged_fct_df['transaction_date'] = pd.to_datetime(merged_fct_df['transaction_date'], format='%Y-%m-%d', errors='coerce')\nprint(merged_fct_df.info())\nprint()\nprint(\"=\" * 150)\n\n# Now lets filter the dataframe to include transactions for July 2024\njul_fct_df = merged_fct_df[(merged_fct_df['transaction_date'] >= '2024-07-01') & (merged_fct_df['transaction_date'] < '2024-08-01')]\nprint(jul_fct_df.info())\nprint()\nprint(jul_fct_df)\nprint()\nprint(\"=\" * 150)\n\n# Now we will count how many transaction did members with and without loyalty membership made in this month\nprint(\"Number of transactions made by members with and without loyalty membership:\")\nprint(jul_fct_df['is_loyalty_member'].value_counts())\n\n################################################################################\nprint()\nprint(\"=\" * 150)\nprint(\"=\" * 150)\nprint()\n################################################################################\n# Question 2 of 3\n# What is the average transaction value for loyalty program members and non-members during July 2024? Use this to identify which group has a higher average transaction value.\n\n# Since the data is already filtrered for July 2024, we can groupby loyalty membership and calculate the average transaction value\njul_avg_txn_value = jul_fct_df.groupby('is_loyalty_member')['transaction_value'].mean().reset_index(name='average_transaction_value').round(2)\nprint(\"Average transaction value for members with and without loyalty membership during July 2024:\")\nprint(jul_avg_txn_value)"
    },
    {
      "cell_type": "markdown",
      "metadata": {},
      "source": [
        "## Question 3\n\nDetermine the percentage difference in average transaction value between loyalty program members and non-members for July 2024."
      ]
    },
    {
      "cell_type": "code",
      "metadata": {},
      "execution_count": null,
      "outputs": [],
      "source": "fct_transactions_df = fct_transactions.copy()\ndim_customers_df = dim_customers.copy()\n\nprint(fct_transactions_df.info())\nprint()\nprint(fct_transactions_df.head())\nprint()\nprint(dim_customers_df.info())\nprint()\nprint(dim_customers_df.head())\nprint()\nprint(\"=\" * 150)\n\n################################################################################\nprint()\nprint(\"=\" * 150)\nprint(\"=\" * 150)\nprint()\n################################################################################\n# Question 1 of 3\n# For the month of July 2024, how many transactions did loyalty program members and non-members make? Compare the transaction counts between these two groups.\n\n# We are going to start by merging both dataframes into one for further analysis\nmerged_fct_df =pd.merge(fct_transactions_df, dim_customers_df, how='right', on='customer_id')\nprint(merged_fct_df.info())\nprint()\nprint(merged_fct_df)\nprint()\nprint(\"=\" * 150)\n\n# Now that we have merged the dataframes, we can start to look at the transaction patterns of our customers\n# First lets transform the 'transaction_date' column to datetime format\nmerged_fct_df['transaction_date'] = pd.to_datetime(merged_fct_df['transaction_date'], format='%Y-%m-%d', errors='coerce')\nprint(merged_fct_df.info())\nprint()\nprint(\"=\" * 150)\n\n# Now lets filter the dataframe to include transactions for July 2024\njul_fct_df = merged_fct_df[(merged_fct_df['transaction_date'] >= '2024-07-01') & (merged_fct_df['transaction_date'] < '2024-08-01')]\nprint(jul_fct_df.info())\nprint()\nprint(jul_fct_df)\nprint()\nprint(\"=\" * 150)\n\n# Now we will count how many transaction did members with and without loyalty membership made in this month\nprint(\"Number of transactions made by members with and without loyalty membership:\")\nprint(jul_fct_df['is_loyalty_member'].value_counts())\n\n################################################################################\nprint()\nprint(\"=\" * 150)\nprint(\"=\" * 150)\nprint()\n################################################################################\n# Question 2 of 3\n# What is the average transaction value for loyalty program members and non-members during July 2024? Use this to identify which group has a higher average transaction value.\n\n# Since the data is already filtrered for July 2024, we can groupby loyalty membership and calculate the average transaction value\njul_avg_txn_value = jul_fct_df.groupby('is_loyalty_member')['transaction_value'].mean().reset_index(name='average_transaction_value').round(2)\nprint(\"Average transaction value for members with and without loyalty membership during July 2024:\")\nprint(jul_avg_txn_value)\nprint()\nprint(\"=\" * 150)\n\n################################################################################\nprint()\nprint(\"=\" * 150)\nprint(\"=\" * 150)\nprint()\n################################################################################\n# Question 3 of 3\n# Determine the percentage difference in average transaction value between loyalty program members and non-members for July 2024.\n\n# We can directly calculate the percentage difference in average transaction value between members and non-members by subtracting the average transaction value of non-members from the average transaction value of members and \npercentage_diff = (jul_avg_txn_value[jul_avg_txn_value['is_loyalty_member'] == True]['average_transaction_value'].values[0] - jul_avg_txn_value[jul_avg_txn_value['is_loyalty_member'] == False]['average_transaction_value'].values[0]) / jul_avg_txn_value[jul_avg_txn_value['is_loyalty_member'] == False]['average_transaction_value'].values[0] * 100\nprint(\"Percentage difference in average transaction value between members and non-members during July 2024:\")\nprint(percentage_diff.round(2), \"%\")"
    },
    {
      "cell_type": "markdown",
      "metadata": {},
      "source": [
        "Made with ❤️ by [Interview Master](https://www.interviewmaster.ai)"
      ]
    }
  ],
  "metadata": {
    "kernelspec": {
      "name": "python3",
      "language": "python",
      "display_name": "Python 3"
    },
    "language_info": {
      "name": "python",
      "version": "3",
      "mimetype": "text/x-python",
      "file_extension": ".py"
    }
  },
  "nbformat": 4,
  "nbformat_minor": 5
}